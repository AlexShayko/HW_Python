{
  "nbformat": 4,
  "nbformat_minor": 0,
  "metadata": {
    "colab": {
      "provenance": []
    },
    "kernelspec": {
      "name": "python3",
      "display_name": "Python 3"
    },
    "language_info": {
      "name": "python"
    }
  },
  "cells": [
    {
      "cell_type": "markdown",
      "source": [
        "# I. Разминка numpy (1 балл)"
      ],
      "metadata": {
        "id": "gGBTGZEG--Sg"
      }
    },
    {
      "cell_type": "markdown",
      "source": [
        "## 1. Парсеки\n",
        "\n",
        "Напишите функцию, которая принимает на вход:\n",
        "- np.array - набор расстояний от Земли до звёзд (в световых годах)\n",
        "- k - количество значений, которое нам нужно\n",
        "\n",
        "Выведите топ-k самых удаленных звёзд от нас в порядке убывания разрастания, расстояния выведите в парсеках (1 парсек приблизительно равен 3.262 световым годам)"
      ],
      "metadata": {
        "id": "OACnwH_i_I_W"
      }
    },
    {
      "cell_type": "code",
      "execution_count": 15,
      "metadata": {
        "id": "hdQoc-Ka-N8F"
      },
      "outputs": [],
      "source": [
        "import numpy as np\n",
        "def find_top_k_longest_distance_stars(distances: np.array, k):\n",
        "  sorted_distances_p = np.sort(distances)[::-1]/3.262\n",
        "  if k <= len(distances):\n",
        "    print('Here are the distances in parseks')\n",
        "    return sorted_distances_p[:k]\n",
        "  else:\n",
        "    print('Be careful, we have less volume of data then you want, so, here is the full array of distances in parseks:')\n",
        "    return sorted_distances_p"
      ]
    },
    {
      "cell_type": "code",
      "source": [
        "# Просто пример, можно придумать свой\n",
        "print(find_top_k_longest_distance_stars(np.array([4.37, 8.6, 4.24, 4.37, 5.96, 7.8, 8.6, 7.9]), 4))"
      ],
      "metadata": {
        "id": "eGfYecENXfpf",
        "outputId": "72fd5dab-ac4e-43c6-eab9-7cc39ce6c888",
        "colab": {
          "base_uri": "https://localhost:8080/"
        }
      },
      "execution_count": 16,
      "outputs": [
        {
          "output_type": "stream",
          "name": "stdout",
          "text": [
            "Here are the distances in parseks\n",
            "[2.63641937 2.63641937 2.4218271  2.39117106]\n"
          ]
        }
      ]
    },
    {
      "cell_type": "code",
      "source": [
        "print(find_top_k_longest_distance_stars(np.array([4.37, 8.6, 4.24, 4.37, 5.96, 7.8, 8.6, 7.9]), 100))"
      ],
      "metadata": {
        "id": "2pZv_leQNR9Q",
        "outputId": "6cb14995-00c1-461f-e36d-1b09cadcc6bc",
        "colab": {
          "base_uri": "https://localhost:8080/"
        }
      },
      "execution_count": 17,
      "outputs": [
        {
          "output_type": "stream",
          "name": "stdout",
          "text": [
            "Be careful, we have less volume of data then you want, so, here is the full array of distances in parseks:\n",
            "[2.63641937 2.63641937 2.4218271  2.39117106 1.82709994 1.33966891\n",
            " 1.33966891 1.29981606]\n"
          ]
        }
      ]
    },
    {
      "cell_type": "markdown",
      "source": [
        "## 2. Оцениваем размер галактики\n",
        "\n",
        "Напишите функцию, которая принимает на вход:\n",
        "- np.array - набор масс звёзд в галактике\n",
        "- k - количество максимальных по массе звёзд\n",
        "\n",
        "Функция должна вывести два числа - первое - сумму масс первых k звёзд по массе, второе - сумму масс остальных звёзд."
      ],
      "metadata": {
        "id": "4kk0fnU7X6VD"
      }
    },
    {
      "cell_type": "code",
      "source": [
        "def count_k_masses(masses: np.array, k):\n",
        "  masses_sorted = np.sort(masses)[::-1]\n",
        "  if k <= len(masses):\n",
        "    print(f'Here is the sum of masses of first {k} stars and other {len(masses) - k} stars')\n",
        "    return np.sum(masses_sorted[:k]), np.sum(masses_sorted[k:])\n",
        "  else:\n",
        "    print('Be careful, we have less volume of data then you want, so, here is the sum of all masses:')\n",
        "    return np.sum(masses_sorted)"
      ],
      "metadata": {
        "id": "v6Y4H_PDZCbk"
      },
      "execution_count": 18,
      "outputs": []
    },
    {
      "cell_type": "code",
      "source": [
        "# Просто пример, можно придумать свой\n",
        "print(count_k_masses(np.array([150, 200, 300, 250, 400, 100, 200]), 2))"
      ],
      "metadata": {
        "id": "uekPawQTZG4a",
        "outputId": "705c9fa7-1bb9-4e98-aa99-761bb9689282",
        "colab": {
          "base_uri": "https://localhost:8080/"
        }
      },
      "execution_count": 19,
      "outputs": [
        {
          "output_type": "stream",
          "name": "stdout",
          "text": [
            "Here is the sum of masses of first 2 stars and other 5 stars\n",
            "(700, 900)\n"
          ]
        }
      ]
    },
    {
      "cell_type": "code",
      "source": [
        "print(count_k_masses(np.array([150, 200, 300, 250, 400, 100, 200]), 100))"
      ],
      "metadata": {
        "id": "kO7ahZsTOwRP",
        "outputId": "27ff1165-06a9-4af2-afed-2fc2aa9dffa5",
        "colab": {
          "base_uri": "https://localhost:8080/"
        }
      },
      "execution_count": 20,
      "outputs": [
        {
          "output_type": "stream",
          "name": "stdout",
          "text": [
            "Be careful, we have less volume of data then you want, so, here is the sum of all masses:\n",
            "1600\n"
          ]
        }
      ]
    },
    {
      "cell_type": "markdown",
      "source": [
        "# II. Помогаем Карелии"
      ],
      "metadata": {
        "id": "zMpZYTm7Zltb"
      }
    },
    {
      "cell_type": "markdown",
      "source": [
        "## 0. Загрузи датасет в этот блокнот (0.5 балла)\n",
        "\n",
        "Открой гугл-диск курса, разархивируй zip-архив и собери нужные наборы данных из архива в единый датасет при помощи pandas."
      ],
      "metadata": {
        "id": "ZDAkEn9yZoXa"
      }
    },
    {
      "cell_type": "code",
      "source": [
        "import pandas as pd\n",
        "df1 = pd.read_excel('/content/2010.xlsx', sheet_name='доходы (исполнено) 2010', usecols=[0, 3], header=None, index_col=0, names=['Категории доходов', '2010'])\n",
        "df2 = pd.read_excel('/content/2011.xlsx', sheet_name='доходы (исполнено) 2011', usecols=[0, 3], header=None, index_col=0, names=['Категории доходов', '2011'])\n",
        "df3 = pd.read_excel('/content/2012.XLS', sheet_name='доходы (исполнено) 2012', usecols=[0, 4], header=None, index_col=0, names=['Категории доходов', '2012'])\n",
        "df4 = pd.read_excel('/content/2013.xls', sheet_name='доходы (исполнено) 2013', usecols=[0, 3], header=None, index_col=0, names=['Категории доходов', '2013'])\n",
        "df5 = pd.read_excel('/content/2014.XLS', sheet_name='доходы (исполнено) 2014', usecols=[0, 3], header=None, index_col=0, names=['Категории доходов', '2014'])\n",
        "df6 = pd.read_excel('/content/2015.xls', sheet_name='доходы (исполнено) 2015', usecols=[0, 3], header=None, index_col=0, names=['Категории доходов', '2015'])"
      ],
      "metadata": {
        "id": "L9gp5U2TZ39U"
      },
      "execution_count": 21,
      "outputs": []
    },
    {
      "cell_type": "code",
      "source": [
        "dataframes = [df1, df2, df3, df4, df5, df6]\n",
        "incomes=[]\n",
        "for i in range(0, 2):\n",
        "  incomes.append(dataframes[i].iloc[3, 0])\n",
        "for i in range(2, 6):\n",
        "  incomes.append(dataframes[i].iloc[2, 0])"
      ],
      "metadata": {
        "id": "w0JC6mZ8yckq"
      },
      "execution_count": 22,
      "outputs": []
    },
    {
      "cell_type": "code",
      "source": [
        "for i in range(0, 6):\n",
        "  dataframes[i] = dataframes[i][~dataframes[i].index.duplicated(keep='first')]\n",
        "df1, df2, df3, df4, df5, df6 = dataframes\n",
        "df_merged_income = df1.join([df2, df3, df4, df5, df6], how='inner')\n",
        "df_merged_income = df_merged_income.drop([np.nan], axis=0)"
      ],
      "metadata": {
        "id": "f-kvILC6sQV6"
      },
      "execution_count": 23,
      "outputs": []
    },
    {
      "cell_type": "code",
      "source": [
        "for i in range(6, 10):\n",
        "  dfs = pd.read_excel(f'/content/201{i}.xlsx', sheet_name=f'доходы (исполнено) 201{i}', usecols=[0, 3], header=None, index_col=0, names=['Категории доходов', f'201{i}'])\n",
        "  incomes.append(dfs.iloc[2, 0])\n",
        "  dfs = dfs[~dfs.index.duplicated(keep='first')]\n",
        "  df_merged_income = df_merged_income.join([dfs], how ='inner')"
      ],
      "metadata": {
        "id": "L57vwjtqsROO"
      },
      "execution_count": 24,
      "outputs": []
    },
    {
      "cell_type": "code",
      "source": [
        "df20 = pd.read_excel('/content/2020.xlsx', sheet_name='доходы (исполнено) 2020', usecols=[0, 3], header=None, index_col=0, names=['Категории доходов', '2020'])\n",
        "incomes.append(df20.iloc[2, 0])\n",
        "df20 = df20[~df20.index.duplicated(keep='first')]\n",
        "df_merged_income = df_merged_income.join([df20], how ='inner')\n",
        "df_merged_income"
      ],
      "metadata": {
        "id": "Rxjtp0ujsU_a",
        "outputId": "939a09d4-497c-4072-ff01-1e1e895393d7",
        "colab": {
          "base_uri": "https://localhost:8080/",
          "height": 1000
        }
      },
      "execution_count": 25,
      "outputs": [
        {
          "output_type": "execute_result",
          "data": {
            "text/plain": [
              "                                                                 2010  \\\n",
              "Категории доходов                                                       \n",
              "НАЛОГОВЫЕ И НЕНАЛОГОВЫЕ ДОХОДЫ                         15322132232.73   \n",
              "НАЛОГИ НА ПРИБЫЛЬ, ДОХОДЫ                           8613483384.459999   \n",
              "Налог на прибыль организаций                             3980212142.4   \n",
              "Налог на прибыль организаций, зачисляемый в бюд...       3980212142.4   \n",
              "Налог на доходы физических лиц                          4633271242.06   \n",
              "...                                                               ...   \n",
              "БЕЗВОЗМЕЗДНЫЕ ПОСТУПЛЕНИЯ ОТ ГОСУДАРСТВЕННЫХ (М...         1075330749   \n",
              "ПРОЧИЕ БЕЗВОЗМЕЗДНЫЕ ПОСТУПЛЕНИЯ                         157669883.87   \n",
              "Прочие безвозмездные поступления в бюджеты субъ...       157669883.87   \n",
              "Прочие безвозмездные поступления в бюджеты горо...                NaN   \n",
              "Прочие безвозмездные поступления в бюджеты муни...                NaN   \n",
              "\n",
              "                                                              2011  \\\n",
              "Категории доходов                                                    \n",
              "НАЛОГОВЫЕ И НЕНАЛОГОВЫЕ ДОХОДЫ                      18202689345.18   \n",
              "НАЛОГИ НА ПРИБЫЛЬ, ДОХОДЫ                           11334538970.16   \n",
              "Налог на прибыль организаций                         6262562069.63   \n",
              "Налог на прибыль организаций, зачисляемый в бюд...   6262562069.63   \n",
              "Налог на доходы физических лиц                       5071976900.53   \n",
              "...                                                            ...   \n",
              "БЕЗВОЗМЕЗДНЫЕ ПОСТУПЛЕНИЯ ОТ ГОСУДАРСТВЕННЫХ (М...      52256308.5   \n",
              "ПРОЧИЕ БЕЗВОЗМЕЗДНЫЕ ПОСТУПЛЕНИЯ                      156044685.64   \n",
              "Прочие безвозмездные поступления в бюджеты субъ...    156044685.64   \n",
              "Прочие безвозмездные поступления в бюджеты горо...             NaN   \n",
              "Прочие безвозмездные поступления в бюджеты муни...             NaN   \n",
              "\n",
              "                                                                  2012  \\\n",
              "Категории доходов                                                        \n",
              "НАЛОГОВЫЕ И НЕНАЛОГОВЫЕ ДОХОДЫ                      17570424288.029999   \n",
              "НАЛОГИ НА ПРИБЫЛЬ, ДОХОДЫ                           10813732699.530001   \n",
              "Налог на прибыль организаций                              5279887784.7   \n",
              "Налог на прибыль организаций, зачисляемый в бюд...        5279887784.7   \n",
              "Налог на доходы физических лиц                           5533844914.83   \n",
              "...                                                                ...   \n",
              "БЕЗВОЗМЕЗДНЫЕ ПОСТУПЛЕНИЯ ОТ ГОСУДАРСТВЕННЫХ (М...        272988507.35   \n",
              "ПРОЧИЕ БЕЗВОЗМЕЗДНЫЕ ПОСТУПЛЕНИЯ                           92881294.18   \n",
              "Прочие безвозмездные поступления в бюджеты субъ...         92881294.18   \n",
              "Прочие безвозмездные поступления в бюджеты горо...                   0   \n",
              "Прочие безвозмездные поступления в бюджеты муни...                   0   \n",
              "\n",
              "                                                              2013  \\\n",
              "Категории доходов                                                    \n",
              "НАЛОГОВЫЕ И НЕНАЛОГОВЫЕ ДОХОДЫ                      15173763025.93   \n",
              "НАЛОГИ НА ПРИБЫЛЬ, ДОХОДЫ                            8101885886.87   \n",
              "Налог на прибыль организаций                         2200021502.01   \n",
              "Налог на прибыль организаций, зачисляемый в бюд...   2200021502.01   \n",
              "Налог на доходы физических лиц                       5901864384.86   \n",
              "...                                                            ...   \n",
              "БЕЗВОЗМЕЗДНЫЕ ПОСТУПЛЕНИЯ ОТ ГОСУДАРСТВЕННЫХ (М...   -126460325.25   \n",
              "ПРОЧИЕ БЕЗВОЗМЕЗДНЫЕ ПОСТУПЛЕНИЯ                      276745489.01   \n",
              "Прочие безвозмездные поступления в бюджеты субъ...    276745489.01   \n",
              "Прочие безвозмездные поступления в бюджеты горо...               0   \n",
              "Прочие безвозмездные поступления в бюджеты муни...               0   \n",
              "\n",
              "                                                             2014  \\\n",
              "Категории доходов                                                   \n",
              "НАЛОГОВЫЕ И НЕНАЛОГОВЫЕ ДОХОДЫ                        15956764902   \n",
              "НАЛОГИ НА ПРИБЫЛЬ, ДОХОДЫ                           8916328469.16   \n",
              "Налог на прибыль организаций                        1837840442.62   \n",
              "Налог на прибыль организаций, зачисляемый в бюд...  1837840442.62   \n",
              "Налог на доходы физических лиц                      7078488026.54   \n",
              "...                                                           ...   \n",
              "БЕЗВОЗМЕЗДНЫЕ ПОСТУПЛЕНИЯ ОТ ГОСУДАРСТВЕННЫХ (М...   150544153.48   \n",
              "ПРОЧИЕ БЕЗВОЗМЕЗДНЫЕ ПОСТУПЛЕНИЯ                     196073282.36   \n",
              "Прочие безвозмездные поступления в бюджеты субъ...   196073282.36   \n",
              "Прочие безвозмездные поступления в бюджеты горо...              0   \n",
              "Прочие безвозмездные поступления в бюджеты муни...              0   \n",
              "\n",
              "                                                                  2015  \\\n",
              "Категории доходов                                                        \n",
              "НАЛОГОВЫЕ И НЕНАЛОГОВЫЕ ДОХОДЫ                      17808163620.080002   \n",
              "НАЛОГИ НА ПРИБЫЛЬ, ДОХОДЫ                            9962889434.440001   \n",
              "Налог на прибыль организаций                             3114014266.32   \n",
              "Налог на прибыль организаций, зачисляемый в бюд...       3114014266.32   \n",
              "Налог на доходы физических лиц                           6848875168.12   \n",
              "...                                                                ...   \n",
              "БЕЗВОЗМЕЗДНЫЕ ПОСТУПЛЕНИЯ ОТ ГОСУДАРСТВЕННЫХ (М...         868429101.1   \n",
              "ПРОЧИЕ БЕЗВОЗМЕЗДНЫЕ ПОСТУПЛЕНИЯ                          146130127.84   \n",
              "Прочие безвозмездные поступления в бюджеты субъ...        146130127.84   \n",
              "Прочие безвозмездные поступления в бюджеты горо...                   0   \n",
              "Прочие безвозмездные поступления в бюджеты муни...                   0   \n",
              "\n",
              "                                                                  2016  \\\n",
              "Категории доходов                                                        \n",
              "НАЛОГОВЫЕ И НЕНАЛОГОВЫЕ ДОХОДЫ                      19654412574.419998   \n",
              "НАЛОГИ НА ПРИБЫЛЬ, ДОХОДЫ                               11518070774.48   \n",
              "Налог на прибыль организаций                             4280042099.75   \n",
              "Налог на прибыль организаций, зачисляемый в бюд...       4280042099.75   \n",
              "Налог на доходы физических лиц                           7238028674.73   \n",
              "...                                                                ...   \n",
              "БЕЗВОЗМЕЗДНЫЕ ПОСТУПЛЕНИЯ ОТ ГОСУДАРСТВЕННЫХ (М...       1987554808.08   \n",
              "ПРОЧИЕ БЕЗВОЗМЕЗДНЫЕ ПОСТУПЛЕНИЯ                            7920190.94   \n",
              "Прочие безвозмездные поступления в бюджеты субъ...                 NaN   \n",
              "Прочие безвозмездные поступления в бюджеты горо...                 NaN   \n",
              "Прочие безвозмездные поступления в бюджеты муни...                 NaN   \n",
              "\n",
              "                                                                  2017  \\\n",
              "Категории доходов                                                        \n",
              "НАЛОГОВЫЕ И НЕНАЛОГОВЫЕ ДОХОДЫ                      20129196349.220001   \n",
              "НАЛОГИ НА ПРИБЫЛЬ, ДОХОДЫ                           11700807336.309999   \n",
              "Налог на прибыль организаций                             4022683492.19   \n",
              "Налог на прибыль организаций, зачисляемый в бюд...       4022683492.19   \n",
              "Налог на доходы физических лиц                           7678123844.12   \n",
              "...                                                                ...   \n",
              "БЕЗВОЗМЕЗДНЫЕ ПОСТУПЛЕНИЯ ОТ ГОСУДАРСТВЕННЫХ (М...         738518680.3   \n",
              "ПРОЧИЕ БЕЗВОЗМЕЗДНЫЕ ПОСТУПЛЕНИЯ                               8900000   \n",
              "Прочие безвозмездные поступления в бюджеты субъ...                 NaN   \n",
              "Прочие безвозмездные поступления в бюджеты горо...                 NaN   \n",
              "Прочие безвозмездные поступления в бюджеты муни...                 NaN   \n",
              "\n",
              "                                                              2018  \\\n",
              "Категории доходов                                                    \n",
              "НАЛОГОВЫЕ И НЕНАЛОГОВЫЕ ДОХОДЫ                      26604349315.43   \n",
              "НАЛОГИ НА ПРИБЫЛЬ, ДОХОДЫ                              16900358608   \n",
              "Налог на прибыль организаций                         8128882485.27   \n",
              "Налог на прибыль организаций, зачисляемый в бюд...   8128882485.27   \n",
              "Налог на доходы физических лиц                       8771476122.73   \n",
              "...                                                            ...   \n",
              "БЕЗВОЗМЕЗДНЫЕ ПОСТУПЛЕНИЯ ОТ ГОСУДАРСТВЕННЫХ (М...    751477164.22   \n",
              "ПРОЧИЕ БЕЗВОЗМЕЗДНЫЕ ПОСТУПЛЕНИЯ                       11112952.37   \n",
              "Прочие безвозмездные поступления в бюджеты субъ...             NaN   \n",
              "Прочие безвозмездные поступления в бюджеты горо...             NaN   \n",
              "Прочие безвозмездные поступления в бюджеты муни...             NaN   \n",
              "\n",
              "                                                                  2019  \\\n",
              "Категории доходов                                                        \n",
              "НАЛОГОВЫЕ И НЕНАЛОГОВЫЕ ДОХОДЫ                      27763981934.919998   \n",
              "НАЛОГИ НА ПРИБЫЛЬ, ДОХОДЫ                           17336881098.560001   \n",
              "Налог на прибыль организаций                             8162340492.33   \n",
              "Налог на прибыль организаций, зачисляемый в бюд...       8162340492.33   \n",
              "Налог на доходы физических лиц                           9174540606.23   \n",
              "...                                                                ...   \n",
              "БЕЗВОЗМЕЗДНЫЕ ПОСТУПЛЕНИЯ ОТ ГОСУДАРСТВЕННЫХ (М...        373995097.91   \n",
              "ПРОЧИЕ БЕЗВОЗМЕЗДНЫЕ ПОСТУПЛЕНИЯ                            9511191.38   \n",
              "Прочие безвозмездные поступления в бюджеты субъ...          9511191.38   \n",
              "Прочие безвозмездные поступления в бюджеты горо...                   0   \n",
              "Прочие безвозмездные поступления в бюджеты муни...                   0   \n",
              "\n",
              "                                                                  2020  \n",
              "Категории доходов                                                       \n",
              "НАЛОГОВЫЕ И НЕНАЛОГОВЫЕ ДОХОДЫ                          27131141282.57  \n",
              "НАЛОГИ НА ПРИБЫЛЬ, ДОХОДЫ                           15165765187.879999  \n",
              "Налог на прибыль организаций                             5058407816.68  \n",
              "Налог на прибыль организаций, зачисляемый в бюд...       5058407816.68  \n",
              "Налог на доходы физических лиц                      10107357371.200001  \n",
              "...                                                                ...  \n",
              "БЕЗВОЗМЕЗДНЫЕ ПОСТУПЛЕНИЯ ОТ ГОСУДАРСТВЕННЫХ (М...       1066752205.38  \n",
              "ПРОЧИЕ БЕЗВОЗМЕЗДНЫЕ ПОСТУПЛЕНИЯ                               1305208  \n",
              "Прочие безвозмездные поступления в бюджеты субъ...             1305208  \n",
              "Прочие безвозмездные поступления в бюджеты горо...                   0  \n",
              "Прочие безвозмездные поступления в бюджеты муни...                   0  \n",
              "\n",
              "[148 rows x 11 columns]"
            ],
            "text/html": [
              "\n",
              "  <div id=\"df-13832050-3ac1-40e4-a41e-da19b2b3f60e\" class=\"colab-df-container\">\n",
              "    <div>\n",
              "<style scoped>\n",
              "    .dataframe tbody tr th:only-of-type {\n",
              "        vertical-align: middle;\n",
              "    }\n",
              "\n",
              "    .dataframe tbody tr th {\n",
              "        vertical-align: top;\n",
              "    }\n",
              "\n",
              "    .dataframe thead th {\n",
              "        text-align: right;\n",
              "    }\n",
              "</style>\n",
              "<table border=\"1\" class=\"dataframe\">\n",
              "  <thead>\n",
              "    <tr style=\"text-align: right;\">\n",
              "      <th></th>\n",
              "      <th>2010</th>\n",
              "      <th>2011</th>\n",
              "      <th>2012</th>\n",
              "      <th>2013</th>\n",
              "      <th>2014</th>\n",
              "      <th>2015</th>\n",
              "      <th>2016</th>\n",
              "      <th>2017</th>\n",
              "      <th>2018</th>\n",
              "      <th>2019</th>\n",
              "      <th>2020</th>\n",
              "    </tr>\n",
              "    <tr>\n",
              "      <th>Категории доходов</th>\n",
              "      <th></th>\n",
              "      <th></th>\n",
              "      <th></th>\n",
              "      <th></th>\n",
              "      <th></th>\n",
              "      <th></th>\n",
              "      <th></th>\n",
              "      <th></th>\n",
              "      <th></th>\n",
              "      <th></th>\n",
              "      <th></th>\n",
              "    </tr>\n",
              "  </thead>\n",
              "  <tbody>\n",
              "    <tr>\n",
              "      <th>НАЛОГОВЫЕ И НЕНАЛОГОВЫЕ ДОХОДЫ</th>\n",
              "      <td>15322132232.73</td>\n",
              "      <td>18202689345.18</td>\n",
              "      <td>17570424288.029999</td>\n",
              "      <td>15173763025.93</td>\n",
              "      <td>15956764902</td>\n",
              "      <td>17808163620.080002</td>\n",
              "      <td>19654412574.419998</td>\n",
              "      <td>20129196349.220001</td>\n",
              "      <td>26604349315.43</td>\n",
              "      <td>27763981934.919998</td>\n",
              "      <td>27131141282.57</td>\n",
              "    </tr>\n",
              "    <tr>\n",
              "      <th>НАЛОГИ НА ПРИБЫЛЬ, ДОХОДЫ</th>\n",
              "      <td>8613483384.459999</td>\n",
              "      <td>11334538970.16</td>\n",
              "      <td>10813732699.530001</td>\n",
              "      <td>8101885886.87</td>\n",
              "      <td>8916328469.16</td>\n",
              "      <td>9962889434.440001</td>\n",
              "      <td>11518070774.48</td>\n",
              "      <td>11700807336.309999</td>\n",
              "      <td>16900358608</td>\n",
              "      <td>17336881098.560001</td>\n",
              "      <td>15165765187.879999</td>\n",
              "    </tr>\n",
              "    <tr>\n",
              "      <th>Налог на прибыль организаций</th>\n",
              "      <td>3980212142.4</td>\n",
              "      <td>6262562069.63</td>\n",
              "      <td>5279887784.7</td>\n",
              "      <td>2200021502.01</td>\n",
              "      <td>1837840442.62</td>\n",
              "      <td>3114014266.32</td>\n",
              "      <td>4280042099.75</td>\n",
              "      <td>4022683492.19</td>\n",
              "      <td>8128882485.27</td>\n",
              "      <td>8162340492.33</td>\n",
              "      <td>5058407816.68</td>\n",
              "    </tr>\n",
              "    <tr>\n",
              "      <th>Налог на прибыль организаций, зачисляемый в бюджеты бюджетной системы Российской Федерации по соответствующим ставкам</th>\n",
              "      <td>3980212142.4</td>\n",
              "      <td>6262562069.63</td>\n",
              "      <td>5279887784.7</td>\n",
              "      <td>2200021502.01</td>\n",
              "      <td>1837840442.62</td>\n",
              "      <td>3114014266.32</td>\n",
              "      <td>4280042099.75</td>\n",
              "      <td>4022683492.19</td>\n",
              "      <td>8128882485.27</td>\n",
              "      <td>8162340492.33</td>\n",
              "      <td>5058407816.68</td>\n",
              "    </tr>\n",
              "    <tr>\n",
              "      <th>Налог на доходы физических лиц</th>\n",
              "      <td>4633271242.06</td>\n",
              "      <td>5071976900.53</td>\n",
              "      <td>5533844914.83</td>\n",
              "      <td>5901864384.86</td>\n",
              "      <td>7078488026.54</td>\n",
              "      <td>6848875168.12</td>\n",
              "      <td>7238028674.73</td>\n",
              "      <td>7678123844.12</td>\n",
              "      <td>8771476122.73</td>\n",
              "      <td>9174540606.23</td>\n",
              "      <td>10107357371.200001</td>\n",
              "    </tr>\n",
              "    <tr>\n",
              "      <th>...</th>\n",
              "      <td>...</td>\n",
              "      <td>...</td>\n",
              "      <td>...</td>\n",
              "      <td>...</td>\n",
              "      <td>...</td>\n",
              "      <td>...</td>\n",
              "      <td>...</td>\n",
              "      <td>...</td>\n",
              "      <td>...</td>\n",
              "      <td>...</td>\n",
              "      <td>...</td>\n",
              "    </tr>\n",
              "    <tr>\n",
              "      <th>БЕЗВОЗМЕЗДНЫЕ ПОСТУПЛЕНИЯ ОТ ГОСУДАРСТВЕННЫХ (МУНИЦИПАЛЬНЫХ) ОРГАНИЗАЦИЙ</th>\n",
              "      <td>1075330749</td>\n",
              "      <td>52256308.5</td>\n",
              "      <td>272988507.35</td>\n",
              "      <td>-126460325.25</td>\n",
              "      <td>150544153.48</td>\n",
              "      <td>868429101.1</td>\n",
              "      <td>1987554808.08</td>\n",
              "      <td>738518680.3</td>\n",
              "      <td>751477164.22</td>\n",
              "      <td>373995097.91</td>\n",
              "      <td>1066752205.38</td>\n",
              "    </tr>\n",
              "    <tr>\n",
              "      <th>ПРОЧИЕ БЕЗВОЗМЕЗДНЫЕ ПОСТУПЛЕНИЯ</th>\n",
              "      <td>157669883.87</td>\n",
              "      <td>156044685.64</td>\n",
              "      <td>92881294.18</td>\n",
              "      <td>276745489.01</td>\n",
              "      <td>196073282.36</td>\n",
              "      <td>146130127.84</td>\n",
              "      <td>7920190.94</td>\n",
              "      <td>8900000</td>\n",
              "      <td>11112952.37</td>\n",
              "      <td>9511191.38</td>\n",
              "      <td>1305208</td>\n",
              "    </tr>\n",
              "    <tr>\n",
              "      <th>Прочие безвозмездные поступления в бюджеты субъектов Российской Федерации</th>\n",
              "      <td>157669883.87</td>\n",
              "      <td>156044685.64</td>\n",
              "      <td>92881294.18</td>\n",
              "      <td>276745489.01</td>\n",
              "      <td>196073282.36</td>\n",
              "      <td>146130127.84</td>\n",
              "      <td>NaN</td>\n",
              "      <td>NaN</td>\n",
              "      <td>NaN</td>\n",
              "      <td>9511191.38</td>\n",
              "      <td>1305208</td>\n",
              "    </tr>\n",
              "    <tr>\n",
              "      <th>Прочие безвозмездные поступления в бюджеты городских округов</th>\n",
              "      <td>NaN</td>\n",
              "      <td>NaN</td>\n",
              "      <td>0</td>\n",
              "      <td>0</td>\n",
              "      <td>0</td>\n",
              "      <td>0</td>\n",
              "      <td>NaN</td>\n",
              "      <td>NaN</td>\n",
              "      <td>NaN</td>\n",
              "      <td>0</td>\n",
              "      <td>0</td>\n",
              "    </tr>\n",
              "    <tr>\n",
              "      <th>Прочие безвозмездные поступления в бюджеты муниципальных районов</th>\n",
              "      <td>NaN</td>\n",
              "      <td>NaN</td>\n",
              "      <td>0</td>\n",
              "      <td>0</td>\n",
              "      <td>0</td>\n",
              "      <td>0</td>\n",
              "      <td>NaN</td>\n",
              "      <td>NaN</td>\n",
              "      <td>NaN</td>\n",
              "      <td>0</td>\n",
              "      <td>0</td>\n",
              "    </tr>\n",
              "  </tbody>\n",
              "</table>\n",
              "<p>148 rows × 11 columns</p>\n",
              "</div>\n",
              "    <div class=\"colab-df-buttons\">\n",
              "\n",
              "  <div class=\"colab-df-container\">\n",
              "    <button class=\"colab-df-convert\" onclick=\"convertToInteractive('df-13832050-3ac1-40e4-a41e-da19b2b3f60e')\"\n",
              "            title=\"Convert this dataframe to an interactive table.\"\n",
              "            style=\"display:none;\">\n",
              "\n",
              "  <svg xmlns=\"http://www.w3.org/2000/svg\" height=\"24px\" viewBox=\"0 -960 960 960\">\n",
              "    <path d=\"M120-120v-720h720v720H120Zm60-500h600v-160H180v160Zm220 220h160v-160H400v160Zm0 220h160v-160H400v160ZM180-400h160v-160H180v160Zm440 0h160v-160H620v160ZM180-180h160v-160H180v160Zm440 0h160v-160H620v160Z\"/>\n",
              "  </svg>\n",
              "    </button>\n",
              "\n",
              "  <style>\n",
              "    .colab-df-container {\n",
              "      display:flex;\n",
              "      gap: 12px;\n",
              "    }\n",
              "\n",
              "    .colab-df-convert {\n",
              "      background-color: #E8F0FE;\n",
              "      border: none;\n",
              "      border-radius: 50%;\n",
              "      cursor: pointer;\n",
              "      display: none;\n",
              "      fill: #1967D2;\n",
              "      height: 32px;\n",
              "      padding: 0 0 0 0;\n",
              "      width: 32px;\n",
              "    }\n",
              "\n",
              "    .colab-df-convert:hover {\n",
              "      background-color: #E2EBFA;\n",
              "      box-shadow: 0px 1px 2px rgba(60, 64, 67, 0.3), 0px 1px 3px 1px rgba(60, 64, 67, 0.15);\n",
              "      fill: #174EA6;\n",
              "    }\n",
              "\n",
              "    .colab-df-buttons div {\n",
              "      margin-bottom: 4px;\n",
              "    }\n",
              "\n",
              "    [theme=dark] .colab-df-convert {\n",
              "      background-color: #3B4455;\n",
              "      fill: #D2E3FC;\n",
              "    }\n",
              "\n",
              "    [theme=dark] .colab-df-convert:hover {\n",
              "      background-color: #434B5C;\n",
              "      box-shadow: 0px 1px 3px 1px rgba(0, 0, 0, 0.15);\n",
              "      filter: drop-shadow(0px 1px 2px rgba(0, 0, 0, 0.3));\n",
              "      fill: #FFFFFF;\n",
              "    }\n",
              "  </style>\n",
              "\n",
              "    <script>\n",
              "      const buttonEl =\n",
              "        document.querySelector('#df-13832050-3ac1-40e4-a41e-da19b2b3f60e button.colab-df-convert');\n",
              "      buttonEl.style.display =\n",
              "        google.colab.kernel.accessAllowed ? 'block' : 'none';\n",
              "\n",
              "      async function convertToInteractive(key) {\n",
              "        const element = document.querySelector('#df-13832050-3ac1-40e4-a41e-da19b2b3f60e');\n",
              "        const dataTable =\n",
              "          await google.colab.kernel.invokeFunction('convertToInteractive',\n",
              "                                                    [key], {});\n",
              "        if (!dataTable) return;\n",
              "\n",
              "        const docLinkHtml = 'Like what you see? Visit the ' +\n",
              "          '<a target=\"_blank\" href=https://colab.research.google.com/notebooks/data_table.ipynb>data table notebook</a>'\n",
              "          + ' to learn more about interactive tables.';\n",
              "        element.innerHTML = '';\n",
              "        dataTable['output_type'] = 'display_data';\n",
              "        await google.colab.output.renderOutput(dataTable, element);\n",
              "        const docLink = document.createElement('div');\n",
              "        docLink.innerHTML = docLinkHtml;\n",
              "        element.appendChild(docLink);\n",
              "      }\n",
              "    </script>\n",
              "  </div>\n",
              "\n",
              "\n",
              "<div id=\"df-37e04abf-f78d-4b78-ada0-196177fdee67\">\n",
              "  <button class=\"colab-df-quickchart\" onclick=\"quickchart('df-37e04abf-f78d-4b78-ada0-196177fdee67')\"\n",
              "            title=\"Suggest charts\"\n",
              "            style=\"display:none;\">\n",
              "\n",
              "<svg xmlns=\"http://www.w3.org/2000/svg\" height=\"24px\"viewBox=\"0 0 24 24\"\n",
              "     width=\"24px\">\n",
              "    <g>\n",
              "        <path d=\"M19 3H5c-1.1 0-2 .9-2 2v14c0 1.1.9 2 2 2h14c1.1 0 2-.9 2-2V5c0-1.1-.9-2-2-2zM9 17H7v-7h2v7zm4 0h-2V7h2v10zm4 0h-2v-4h2v4z\"/>\n",
              "    </g>\n",
              "</svg>\n",
              "  </button>\n",
              "\n",
              "<style>\n",
              "  .colab-df-quickchart {\n",
              "      --bg-color: #E8F0FE;\n",
              "      --fill-color: #1967D2;\n",
              "      --hover-bg-color: #E2EBFA;\n",
              "      --hover-fill-color: #174EA6;\n",
              "      --disabled-fill-color: #AAA;\n",
              "      --disabled-bg-color: #DDD;\n",
              "  }\n",
              "\n",
              "  [theme=dark] .colab-df-quickchart {\n",
              "      --bg-color: #3B4455;\n",
              "      --fill-color: #D2E3FC;\n",
              "      --hover-bg-color: #434B5C;\n",
              "      --hover-fill-color: #FFFFFF;\n",
              "      --disabled-bg-color: #3B4455;\n",
              "      --disabled-fill-color: #666;\n",
              "  }\n",
              "\n",
              "  .colab-df-quickchart {\n",
              "    background-color: var(--bg-color);\n",
              "    border: none;\n",
              "    border-radius: 50%;\n",
              "    cursor: pointer;\n",
              "    display: none;\n",
              "    fill: var(--fill-color);\n",
              "    height: 32px;\n",
              "    padding: 0;\n",
              "    width: 32px;\n",
              "  }\n",
              "\n",
              "  .colab-df-quickchart:hover {\n",
              "    background-color: var(--hover-bg-color);\n",
              "    box-shadow: 0 1px 2px rgba(60, 64, 67, 0.3), 0 1px 3px 1px rgba(60, 64, 67, 0.15);\n",
              "    fill: var(--button-hover-fill-color);\n",
              "  }\n",
              "\n",
              "  .colab-df-quickchart-complete:disabled,\n",
              "  .colab-df-quickchart-complete:disabled:hover {\n",
              "    background-color: var(--disabled-bg-color);\n",
              "    fill: var(--disabled-fill-color);\n",
              "    box-shadow: none;\n",
              "  }\n",
              "\n",
              "  .colab-df-spinner {\n",
              "    border: 2px solid var(--fill-color);\n",
              "    border-color: transparent;\n",
              "    border-bottom-color: var(--fill-color);\n",
              "    animation:\n",
              "      spin 1s steps(1) infinite;\n",
              "  }\n",
              "\n",
              "  @keyframes spin {\n",
              "    0% {\n",
              "      border-color: transparent;\n",
              "      border-bottom-color: var(--fill-color);\n",
              "      border-left-color: var(--fill-color);\n",
              "    }\n",
              "    20% {\n",
              "      border-color: transparent;\n",
              "      border-left-color: var(--fill-color);\n",
              "      border-top-color: var(--fill-color);\n",
              "    }\n",
              "    30% {\n",
              "      border-color: transparent;\n",
              "      border-left-color: var(--fill-color);\n",
              "      border-top-color: var(--fill-color);\n",
              "      border-right-color: var(--fill-color);\n",
              "    }\n",
              "    40% {\n",
              "      border-color: transparent;\n",
              "      border-right-color: var(--fill-color);\n",
              "      border-top-color: var(--fill-color);\n",
              "    }\n",
              "    60% {\n",
              "      border-color: transparent;\n",
              "      border-right-color: var(--fill-color);\n",
              "    }\n",
              "    80% {\n",
              "      border-color: transparent;\n",
              "      border-right-color: var(--fill-color);\n",
              "      border-bottom-color: var(--fill-color);\n",
              "    }\n",
              "    90% {\n",
              "      border-color: transparent;\n",
              "      border-bottom-color: var(--fill-color);\n",
              "    }\n",
              "  }\n",
              "</style>\n",
              "\n",
              "  <script>\n",
              "    async function quickchart(key) {\n",
              "      const quickchartButtonEl =\n",
              "        document.querySelector('#' + key + ' button');\n",
              "      quickchartButtonEl.disabled = true;  // To prevent multiple clicks.\n",
              "      quickchartButtonEl.classList.add('colab-df-spinner');\n",
              "      try {\n",
              "        const charts = await google.colab.kernel.invokeFunction(\n",
              "            'suggestCharts', [key], {});\n",
              "      } catch (error) {\n",
              "        console.error('Error during call to suggestCharts:', error);\n",
              "      }\n",
              "      quickchartButtonEl.classList.remove('colab-df-spinner');\n",
              "      quickchartButtonEl.classList.add('colab-df-quickchart-complete');\n",
              "    }\n",
              "    (() => {\n",
              "      let quickchartButtonEl =\n",
              "        document.querySelector('#df-37e04abf-f78d-4b78-ada0-196177fdee67 button');\n",
              "      quickchartButtonEl.style.display =\n",
              "        google.colab.kernel.accessAllowed ? 'block' : 'none';\n",
              "    })();\n",
              "  </script>\n",
              "</div>\n",
              "    </div>\n",
              "  </div>\n"
            ],
            "application/vnd.google.colaboratory.intrinsic+json": {
              "type": "dataframe",
              "variable_name": "df_merged_income",
              "summary": "{\n  \"name\": \"df_merged_income\",\n  \"rows\": 148,\n  \"fields\": [\n    {\n      \"column\": \"\\u041a\\u0430\\u0442\\u0435\\u0433\\u043e\\u0440\\u0438\\u0438 \\u0434\\u043e\\u0445\\u043e\\u0434\\u043e\\u0432\",\n      \"properties\": {\n        \"dtype\": \"string\",\n        \"num_unique_values\": 148,\n        \"samples\": [\n          \"\\u0421\\u0443\\u0431\\u0441\\u0438\\u0434\\u0438\\u0438 \\u0431\\u044e\\u0434\\u0436\\u0435\\u0442\\u0430\\u043c \\u0441\\u0443\\u0431\\u044a\\u0435\\u043a\\u0442\\u043e\\u0432 \\u0420\\u043e\\u0441\\u0441\\u0438\\u0439\\u0441\\u043a\\u043e\\u0439 \\u0424\\u0435\\u0434\\u0435\\u0440\\u0430\\u0446\\u0438\\u0438 \\u043d\\u0430 \\u0440\\u0435\\u0430\\u043b\\u0438\\u0437\\u0430\\u0446\\u0438\\u044e \\u043c\\u0435\\u0440\\u043e\\u043f\\u0440\\u0438\\u044f\\u0442\\u0438\\u0439 \\u0413\\u043e\\u0441\\u0443\\u0434\\u0430\\u0440\\u0441\\u0442\\u0432\\u0435\\u043d\\u043d\\u043e\\u0433\\u043e \\u043f\\u043b\\u0430\\u043d\\u0430 \\u043f\\u043e\\u0434\\u0433\\u043e\\u0442\\u043e\\u0432\\u043a\\u0438 \\u0443\\u043f\\u0440\\u0430\\u0432\\u043b\\u0435\\u043d\\u0447\\u0435\\u0441\\u043a\\u0438\\u0445 \\u043a\\u0430\\u0434\\u0440\\u043e\\u0432 \\u0434\\u043b\\u044f \\u043e\\u0440\\u0433\\u0430\\u043d\\u0438\\u0437\\u0430\\u0446\\u0438\\u0439 \\u043d\\u0430\\u0440\\u043e\\u0434\\u043d\\u043e\\u0433\\u043e \\u0445\\u043e\\u0437\\u044f\\u0439\\u0441\\u0442\\u0432\\u0430 \\u0420\\u043e\\u0441\\u0441\\u0438\\u0439\\u0441\\u043a\\u043e\\u0439 \\u0424\\u0435\\u0434\\u0435\\u0440\\u0430\\u0446\\u0438\\u0438\",\n          \"\\u041f\\u043b\\u0430\\u0442\\u0435\\u0436\\u0438 \\u0437\\u0430 \\u0434\\u043e\\u0431\\u044b\\u0447\\u0443 \\u043f\\u043e\\u043b\\u0435\\u0437\\u043d\\u044b\\u0445 \\u0438\\u0441\\u043a\\u043e\\u043f\\u0430\\u0435\\u043c\\u044b\\u0445\",\n          \"\\u041c\\u0435\\u0436\\u0431\\u044e\\u0434\\u0436\\u0435\\u0442\\u043d\\u044b\\u0435 \\u0442\\u0440\\u0430\\u043d\\u0441\\u0444\\u0435\\u0440\\u0442\\u044b, \\u043f\\u0435\\u0440\\u0435\\u0434\\u0430\\u0432\\u0430\\u0435\\u043c\\u044b\\u0435 \\u0431\\u044e\\u0434\\u0436\\u0435\\u0442\\u0430\\u043c \\u043d\\u0430 \\u0441\\u043e\\u0434\\u0435\\u0440\\u0436\\u0430\\u043d\\u0438\\u0435 \\u0434\\u0435\\u043f\\u0443\\u0442\\u0430\\u0442\\u043e\\u0432 \\u0413\\u043e\\u0441\\u0443\\u0434\\u0430\\u0440\\u0441\\u0442\\u0432\\u0435\\u043d\\u043d\\u043e\\u0439 \\u0414\\u0443\\u043c\\u044b \\u0438 \\u0438\\u0445 \\u043f\\u043e\\u043c\\u043e\\u0449\\u043d\\u0438\\u043a\\u043e\\u0432\"\n        ],\n        \"semantic_type\": \"\",\n        \"description\": \"\"\n      }\n    },\n    {\n      \"column\": \"2010\",\n      \"properties\": {\n        \"dtype\": \"date\",\n        \"min\": -174024778.67,\n        \"max\": 15322132232.73,\n        \"num_unique_values\": 86,\n        \"samples\": [\n          118000,\n          15322132232.73,\n          14508000\n        ],\n        \"semantic_type\": \"\",\n        \"description\": \"\"\n      }\n    },\n    {\n      \"column\": \"2011\",\n      \"properties\": {\n        \"dtype\": \"date\",\n        \"min\": -269778871.85,\n        \"max\": 18202689345.18,\n        \"num_unique_values\": 86,\n        \"samples\": [\n          696374500,\n          18202689345.18,\n          126537000\n        ],\n        \"semantic_type\": \"\",\n        \"description\": \"\"\n      }\n    },\n    {\n      \"column\": \"2012\",\n      \"properties\": {\n        \"dtype\": \"date\",\n        \"min\": -139740411.85,\n        \"max\": 17570424288.03,\n        \"num_unique_values\": 86,\n        \"samples\": [\n          681775900,\n          17570424288.03,\n          499232900\n        ],\n        \"semantic_type\": \"\",\n        \"description\": \"\"\n      }\n    },\n    {\n      \"column\": \"2013\",\n      \"properties\": {\n        \"dtype\": \"date\",\n        \"min\": -183655185.8,\n        \"max\": 15173763025.93,\n        \"num_unique_values\": 90,\n        \"samples\": [\n          159736.97,\n          345433360.66,\n          104771971.22\n        ],\n        \"semantic_type\": \"\",\n        \"description\": \"\"\n      }\n    },\n    {\n      \"column\": \"2014\",\n      \"properties\": {\n        \"dtype\": \"date\",\n        \"min\": -245222203.59,\n        \"max\": 15956764902,\n        \"num_unique_values\": 86,\n        \"samples\": [\n          692531318.8,\n          15956764902,\n          3056780500\n        ],\n        \"semantic_type\": \"\",\n        \"description\": \"\"\n      }\n    },\n    {\n      \"column\": \"2015\",\n      \"properties\": {\n        \"dtype\": \"date\",\n        \"min\": -121556634.46,\n        \"max\": 17808163620.08,\n        \"num_unique_values\": 88,\n        \"samples\": [\n          570685.5,\n          17808163620.08,\n          386727.09\n        ],\n        \"semantic_type\": \"\",\n        \"description\": \"\"\n      }\n    },\n    {\n      \"column\": \"2016\",\n      \"properties\": {\n        \"dtype\": \"date\",\n        \"min\": -107625609.16,\n        \"max\": 19654412574.42,\n        \"num_unique_values\": 85,\n        \"samples\": [\n          5641859.9,\n          19654412574.42,\n          5014887200\n        ],\n        \"semantic_type\": \"\",\n        \"description\": \"\"\n      }\n    },\n    {\n      \"column\": \"2017\",\n      \"properties\": {\n        \"dtype\": \"date\",\n        \"min\": -69329957.17,\n        \"max\": 20129196349.22,\n        \"num_unique_values\": 72,\n        \"samples\": [\n          2280841840.14,\n          858795.31,\n          1440054.56\n        ],\n        \"semantic_type\": \"\",\n        \"description\": \"\"\n      }\n    },\n    {\n      \"column\": \"2018\",\n      \"properties\": {\n        \"dtype\": \"date\",\n        \"min\": -299965494.81,\n        \"max\": 26604349315.43,\n        \"num_unique_values\": 69,\n        \"samples\": [\n          4751630.02,\n          26604349315.43,\n          10659791.44\n        ],\n        \"semantic_type\": \"\",\n        \"description\": \"\"\n      }\n    },\n    {\n      \"column\": \"2019\",\n      \"properties\": {\n        \"dtype\": \"date\",\n        \"min\": -353819138.51,\n        \"max\": 27763981934.92,\n        \"num_unique_values\": 69,\n        \"samples\": [\n          5178598.48,\n          27763981934.92,\n          560000\n        ],\n        \"semantic_type\": \"\",\n        \"description\": \"\"\n      }\n    },\n    {\n      \"column\": \"2020\",\n      \"properties\": {\n        \"dtype\": \"date\",\n        \"min\": -47411604,\n        \"max\": 33466238203.73,\n        \"num_unique_values\": 62,\n        \"samples\": [\n          74743411.07,\n          1472618.29,\n          27131141282.57\n        ],\n        \"semantic_type\": \"\",\n        \"description\": \"\"\n      }\n    }\n  ]\n}"
            }
          },
          "metadata": {},
          "execution_count": 25
        }
      ]
    },
    {
      "cell_type": "code",
      "source": [
        "has_duplicates = df_merged_income.index.duplicated().any()\n",
        "\n",
        "if has_duplicates:\n",
        "    print(\"В DataFrame есть дубликаты индексов.\")\n",
        "else:\n",
        "    print(\"В DataFrame нет дубликатов индексов.\")"
      ],
      "metadata": {
        "id": "BktNyQuRlnM_",
        "outputId": "56507c3d-92ee-4b2c-b385-002d5f8a07b6",
        "colab": {
          "base_uri": "https://localhost:8080/"
        }
      },
      "execution_count": 26,
      "outputs": [
        {
          "output_type": "stream",
          "name": "stdout",
          "text": [
            "В DataFrame нет дубликатов индексов.\n"
          ]
        }
      ]
    },
    {
      "cell_type": "code",
      "source": [
        "df1 = pd.read_excel('/content/2010.xlsx', sheet_name='расходы (исполнено) 2010', usecols=[0, 3], header=None, index_col=0, names=['Категории расходов', '2010'])\n",
        "df2 = pd.read_excel('/content/2011.xlsx', sheet_name='расходы (исполнено) 2011', usecols=[0, 3], header=None, index_col=0, names=['Категории расходов', '2011'])\n",
        "df3 = pd.read_excel('/content/2012.XLS', sheet_name='расходы (исполнено) 2012', usecols=[0, 6], header=None, index_col=0, names=['Категории расходов', '2012'])\n",
        "df4 = pd.read_excel('/content/2013.xls', sheet_name='расходы (исполнено) 2013', usecols=[0, 6], header=None, index_col=0, names=['Категории расходов', '2013'])\n",
        "df5 = pd.read_excel('/content/2014.XLS', sheet_name='расходы (исполнено) 2014', usecols=[0, 6], header=None, index_col=0, names=['Категории расходов', '2014'])\n",
        "df6 = pd.read_excel('/content/2015.xls', sheet_name='расходы (исполнено) 2015', usecols=[0, 7], header=None, index_col=0, names=['Категории расходов', '2015'])"
      ],
      "metadata": {
        "id": "E08UfjgM5-El"
      },
      "execution_count": 27,
      "outputs": []
    },
    {
      "cell_type": "code",
      "source": [
        "dataframes = [df1, df2, df3, df4, df5, df6]\n",
        "expences=[]\n",
        "for i in range(0, 2):\n",
        "  expences.append(dataframes[i].iloc[2, 0])\n",
        "for i in range(2, 4):\n",
        "  expences.append(dataframes[i].iloc[5, 0])\n",
        "for i in range(4, 6):\n",
        "  expences.append(dataframes[i].iloc[2, 0])"
      ],
      "metadata": {
        "id": "CkzIsD8Z2LmX"
      },
      "execution_count": 28,
      "outputs": []
    },
    {
      "cell_type": "code",
      "source": [
        "for i in range(len(dataframes)):\n",
        "    dataframes[i] = dataframes[i][~dataframes[i].index.duplicated(keep='first')]\n",
        "df1, df2, df3, df4, df5, df6 = dataframes\n",
        "df_merged_exp = df1.join([df2, df3, df4, df5, df6], how='inner')\n",
        "df_merged_exp = df_merged_exp.drop([np.nan, 1], axis=0)\n",
        "df_merged_exp"
      ],
      "metadata": {
        "id": "maA3IZnc6k3t",
        "outputId": "32592f4e-d6a6-4ffc-8384-392cb39c2428",
        "colab": {
          "base_uri": "https://localhost:8080/",
          "height": 472
        }
      },
      "execution_count": 29,
      "outputs": [
        {
          "output_type": "execute_result",
          "data": {
            "text/plain": [
              "                                                             2010  \\\n",
              "Категории расходов                                                  \n",
              "Расходы                                             1478363164.48   \n",
              "Заработная плата                                     434153563.87   \n",
              "Прочие выплаты                                         5886955.51   \n",
              "Начисления на выплаты по оплате труда                 94574431.65   \n",
              "Услуги связи                                          16561830.66   \n",
              "...                                                           ...   \n",
              "Социальное обслуживание населения                    537913966.74   \n",
              "Социальное обеспечение населения                    5556901340.24   \n",
              "Охрана семьи и детства                                 4216267.16   \n",
              "Другие вопросы в области социальной политики           8858597.83   \n",
              "Перечисления другим бюджетам бюджетной системы ...  8409842392.39   \n",
              "\n",
              "                                                             2011  \\\n",
              "Категории расходов                                                  \n",
              "Расходы                                              716389112.95   \n",
              "Заработная плата                                     405647063.07   \n",
              "Прочие выплаты                                         5033006.25   \n",
              "Начисления на выплаты по оплате труда                113135058.85   \n",
              "Услуги связи                                          19776678.08   \n",
              "...                                                           ...   \n",
              "Социальное обслуживание населения                   1296291157.78   \n",
              "Социальное обеспечение населения                    5510346051.32   \n",
              "Охрана семьи и детства                               174565765.56   \n",
              "Другие вопросы в области социальной политики           8229087.33   \n",
              "Перечисления другим бюджетам бюджетной системы ...    17919084.09   \n",
              "\n",
              "                                                             2012  \\\n",
              "Категории расходов                                                  \n",
              "Расходы                                                2659539.23   \n",
              "Заработная плата                                       2228896.79   \n",
              "Прочие выплаты                                                  0   \n",
              "Начисления на выплаты по оплате труда                   430642.44   \n",
              "Услуги связи                                           1053099.46   \n",
              "...                                                           ...   \n",
              "Социальное обслуживание населения                   1040601923.09   \n",
              "Социальное обеспечение населения                    5459395243.98   \n",
              "Охрана семьи и детства                               705944465.82   \n",
              "Другие вопросы в области социальной политики              9174500   \n",
              "Перечисления другим бюджетам бюджетной системы ...              0   \n",
              "\n",
              "                                                             2013  \\\n",
              "Категории расходов                                                  \n",
              "Расходы                                                2176264.57   \n",
              "Заработная плата                                       1872116.67   \n",
              "Прочие выплаты                                                  0   \n",
              "Начисления на выплаты по оплате труда                    304147.9   \n",
              "Услуги связи                                           1042352.78   \n",
              "...                                                           ...   \n",
              "Социальное обслуживание населения                   1202304654.57   \n",
              "Социальное обеспечение населения                    5304087769.94   \n",
              "Охрана семьи и детства                               639147025.81   \n",
              "Другие вопросы в области социальной политики             11495826   \n",
              "Перечисления другим бюджетам бюджетной системы ...    23815517.94   \n",
              "\n",
              "                                                             2014  \\\n",
              "Категории расходов                                                  \n",
              "Расходы                                                2291849.67   \n",
              "Заработная плата                                       1966839.99   \n",
              "Прочие выплаты                                                  0   \n",
              "Начисления на выплаты по оплате труда                   325009.68   \n",
              "Услуги связи                                            1010962.8   \n",
              "...                                                           ...   \n",
              "Социальное обслуживание населения                   1233887214.51   \n",
              "Социальное обеспечение населения                    5233812238.52   \n",
              "Охрана семьи и детства                               712993928.74   \n",
              "Другие вопросы в области социальной политики           12905001.5   \n",
              "Перечисления другим бюджетам бюджетной системы ...       23942500   \n",
              "\n",
              "                                                             2015  \n",
              "Категории расходов                                                 \n",
              "Расходы                                                2509788.47  \n",
              "Заработная плата                                       2122879.33  \n",
              "Прочие выплаты                                                  0  \n",
              "Начисления на выплаты по оплате труда                   386909.14  \n",
              "Услуги связи                                            749194.63  \n",
              "...                                                           ...  \n",
              "Социальное обслуживание населения                   1180444870.44  \n",
              "Социальное обеспечение населения                    5513860322.93  \n",
              "Охрана семьи и детства                               681949699.98  \n",
              "Другие вопросы в области социальной политики           11755323.5  \n",
              "Перечисления другим бюджетам бюджетной системы ...       23780900  \n",
              "\n",
              "[67 rows x 6 columns]"
            ],
            "text/html": [
              "\n",
              "  <div id=\"df-58e7ddd5-6d2d-4dba-afed-f459fadde6b6\" class=\"colab-df-container\">\n",
              "    <div>\n",
              "<style scoped>\n",
              "    .dataframe tbody tr th:only-of-type {\n",
              "        vertical-align: middle;\n",
              "    }\n",
              "\n",
              "    .dataframe tbody tr th {\n",
              "        vertical-align: top;\n",
              "    }\n",
              "\n",
              "    .dataframe thead th {\n",
              "        text-align: right;\n",
              "    }\n",
              "</style>\n",
              "<table border=\"1\" class=\"dataframe\">\n",
              "  <thead>\n",
              "    <tr style=\"text-align: right;\">\n",
              "      <th></th>\n",
              "      <th>2010</th>\n",
              "      <th>2011</th>\n",
              "      <th>2012</th>\n",
              "      <th>2013</th>\n",
              "      <th>2014</th>\n",
              "      <th>2015</th>\n",
              "    </tr>\n",
              "    <tr>\n",
              "      <th>Категории расходов</th>\n",
              "      <th></th>\n",
              "      <th></th>\n",
              "      <th></th>\n",
              "      <th></th>\n",
              "      <th></th>\n",
              "      <th></th>\n",
              "    </tr>\n",
              "  </thead>\n",
              "  <tbody>\n",
              "    <tr>\n",
              "      <th>Расходы</th>\n",
              "      <td>1478363164.48</td>\n",
              "      <td>716389112.95</td>\n",
              "      <td>2659539.23</td>\n",
              "      <td>2176264.57</td>\n",
              "      <td>2291849.67</td>\n",
              "      <td>2509788.47</td>\n",
              "    </tr>\n",
              "    <tr>\n",
              "      <th>Заработная плата</th>\n",
              "      <td>434153563.87</td>\n",
              "      <td>405647063.07</td>\n",
              "      <td>2228896.79</td>\n",
              "      <td>1872116.67</td>\n",
              "      <td>1966839.99</td>\n",
              "      <td>2122879.33</td>\n",
              "    </tr>\n",
              "    <tr>\n",
              "      <th>Прочие выплаты</th>\n",
              "      <td>5886955.51</td>\n",
              "      <td>5033006.25</td>\n",
              "      <td>0</td>\n",
              "      <td>0</td>\n",
              "      <td>0</td>\n",
              "      <td>0</td>\n",
              "    </tr>\n",
              "    <tr>\n",
              "      <th>Начисления на выплаты по оплате труда</th>\n",
              "      <td>94574431.65</td>\n",
              "      <td>113135058.85</td>\n",
              "      <td>430642.44</td>\n",
              "      <td>304147.9</td>\n",
              "      <td>325009.68</td>\n",
              "      <td>386909.14</td>\n",
              "    </tr>\n",
              "    <tr>\n",
              "      <th>Услуги связи</th>\n",
              "      <td>16561830.66</td>\n",
              "      <td>19776678.08</td>\n",
              "      <td>1053099.46</td>\n",
              "      <td>1042352.78</td>\n",
              "      <td>1010962.8</td>\n",
              "      <td>749194.63</td>\n",
              "    </tr>\n",
              "    <tr>\n",
              "      <th>...</th>\n",
              "      <td>...</td>\n",
              "      <td>...</td>\n",
              "      <td>...</td>\n",
              "      <td>...</td>\n",
              "      <td>...</td>\n",
              "      <td>...</td>\n",
              "    </tr>\n",
              "    <tr>\n",
              "      <th>Социальное обслуживание населения</th>\n",
              "      <td>537913966.74</td>\n",
              "      <td>1296291157.78</td>\n",
              "      <td>1040601923.09</td>\n",
              "      <td>1202304654.57</td>\n",
              "      <td>1233887214.51</td>\n",
              "      <td>1180444870.44</td>\n",
              "    </tr>\n",
              "    <tr>\n",
              "      <th>Социальное обеспечение населения</th>\n",
              "      <td>5556901340.24</td>\n",
              "      <td>5510346051.32</td>\n",
              "      <td>5459395243.98</td>\n",
              "      <td>5304087769.94</td>\n",
              "      <td>5233812238.52</td>\n",
              "      <td>5513860322.93</td>\n",
              "    </tr>\n",
              "    <tr>\n",
              "      <th>Охрана семьи и детства</th>\n",
              "      <td>4216267.16</td>\n",
              "      <td>174565765.56</td>\n",
              "      <td>705944465.82</td>\n",
              "      <td>639147025.81</td>\n",
              "      <td>712993928.74</td>\n",
              "      <td>681949699.98</td>\n",
              "    </tr>\n",
              "    <tr>\n",
              "      <th>Другие вопросы в области социальной политики</th>\n",
              "      <td>8858597.83</td>\n",
              "      <td>8229087.33</td>\n",
              "      <td>9174500</td>\n",
              "      <td>11495826</td>\n",
              "      <td>12905001.5</td>\n",
              "      <td>11755323.5</td>\n",
              "    </tr>\n",
              "    <tr>\n",
              "      <th>Перечисления другим бюджетам бюджетной системы Российской Федерации</th>\n",
              "      <td>8409842392.39</td>\n",
              "      <td>17919084.09</td>\n",
              "      <td>0</td>\n",
              "      <td>23815517.94</td>\n",
              "      <td>23942500</td>\n",
              "      <td>23780900</td>\n",
              "    </tr>\n",
              "  </tbody>\n",
              "</table>\n",
              "<p>67 rows × 6 columns</p>\n",
              "</div>\n",
              "    <div class=\"colab-df-buttons\">\n",
              "\n",
              "  <div class=\"colab-df-container\">\n",
              "    <button class=\"colab-df-convert\" onclick=\"convertToInteractive('df-58e7ddd5-6d2d-4dba-afed-f459fadde6b6')\"\n",
              "            title=\"Convert this dataframe to an interactive table.\"\n",
              "            style=\"display:none;\">\n",
              "\n",
              "  <svg xmlns=\"http://www.w3.org/2000/svg\" height=\"24px\" viewBox=\"0 -960 960 960\">\n",
              "    <path d=\"M120-120v-720h720v720H120Zm60-500h600v-160H180v160Zm220 220h160v-160H400v160Zm0 220h160v-160H400v160ZM180-400h160v-160H180v160Zm440 0h160v-160H620v160ZM180-180h160v-160H180v160Zm440 0h160v-160H620v160Z\"/>\n",
              "  </svg>\n",
              "    </button>\n",
              "\n",
              "  <style>\n",
              "    .colab-df-container {\n",
              "      display:flex;\n",
              "      gap: 12px;\n",
              "    }\n",
              "\n",
              "    .colab-df-convert {\n",
              "      background-color: #E8F0FE;\n",
              "      border: none;\n",
              "      border-radius: 50%;\n",
              "      cursor: pointer;\n",
              "      display: none;\n",
              "      fill: #1967D2;\n",
              "      height: 32px;\n",
              "      padding: 0 0 0 0;\n",
              "      width: 32px;\n",
              "    }\n",
              "\n",
              "    .colab-df-convert:hover {\n",
              "      background-color: #E2EBFA;\n",
              "      box-shadow: 0px 1px 2px rgba(60, 64, 67, 0.3), 0px 1px 3px 1px rgba(60, 64, 67, 0.15);\n",
              "      fill: #174EA6;\n",
              "    }\n",
              "\n",
              "    .colab-df-buttons div {\n",
              "      margin-bottom: 4px;\n",
              "    }\n",
              "\n",
              "    [theme=dark] .colab-df-convert {\n",
              "      background-color: #3B4455;\n",
              "      fill: #D2E3FC;\n",
              "    }\n",
              "\n",
              "    [theme=dark] .colab-df-convert:hover {\n",
              "      background-color: #434B5C;\n",
              "      box-shadow: 0px 1px 3px 1px rgba(0, 0, 0, 0.15);\n",
              "      filter: drop-shadow(0px 1px 2px rgba(0, 0, 0, 0.3));\n",
              "      fill: #FFFFFF;\n",
              "    }\n",
              "  </style>\n",
              "\n",
              "    <script>\n",
              "      const buttonEl =\n",
              "        document.querySelector('#df-58e7ddd5-6d2d-4dba-afed-f459fadde6b6 button.colab-df-convert');\n",
              "      buttonEl.style.display =\n",
              "        google.colab.kernel.accessAllowed ? 'block' : 'none';\n",
              "\n",
              "      async function convertToInteractive(key) {\n",
              "        const element = document.querySelector('#df-58e7ddd5-6d2d-4dba-afed-f459fadde6b6');\n",
              "        const dataTable =\n",
              "          await google.colab.kernel.invokeFunction('convertToInteractive',\n",
              "                                                    [key], {});\n",
              "        if (!dataTable) return;\n",
              "\n",
              "        const docLinkHtml = 'Like what you see? Visit the ' +\n",
              "          '<a target=\"_blank\" href=https://colab.research.google.com/notebooks/data_table.ipynb>data table notebook</a>'\n",
              "          + ' to learn more about interactive tables.';\n",
              "        element.innerHTML = '';\n",
              "        dataTable['output_type'] = 'display_data';\n",
              "        await google.colab.output.renderOutput(dataTable, element);\n",
              "        const docLink = document.createElement('div');\n",
              "        docLink.innerHTML = docLinkHtml;\n",
              "        element.appendChild(docLink);\n",
              "      }\n",
              "    </script>\n",
              "  </div>\n",
              "\n",
              "\n",
              "<div id=\"df-b7b41908-23c4-4cd6-b29b-37ef66c38410\">\n",
              "  <button class=\"colab-df-quickchart\" onclick=\"quickchart('df-b7b41908-23c4-4cd6-b29b-37ef66c38410')\"\n",
              "            title=\"Suggest charts\"\n",
              "            style=\"display:none;\">\n",
              "\n",
              "<svg xmlns=\"http://www.w3.org/2000/svg\" height=\"24px\"viewBox=\"0 0 24 24\"\n",
              "     width=\"24px\">\n",
              "    <g>\n",
              "        <path d=\"M19 3H5c-1.1 0-2 .9-2 2v14c0 1.1.9 2 2 2h14c1.1 0 2-.9 2-2V5c0-1.1-.9-2-2-2zM9 17H7v-7h2v7zm4 0h-2V7h2v10zm4 0h-2v-4h2v4z\"/>\n",
              "    </g>\n",
              "</svg>\n",
              "  </button>\n",
              "\n",
              "<style>\n",
              "  .colab-df-quickchart {\n",
              "      --bg-color: #E8F0FE;\n",
              "      --fill-color: #1967D2;\n",
              "      --hover-bg-color: #E2EBFA;\n",
              "      --hover-fill-color: #174EA6;\n",
              "      --disabled-fill-color: #AAA;\n",
              "      --disabled-bg-color: #DDD;\n",
              "  }\n",
              "\n",
              "  [theme=dark] .colab-df-quickchart {\n",
              "      --bg-color: #3B4455;\n",
              "      --fill-color: #D2E3FC;\n",
              "      --hover-bg-color: #434B5C;\n",
              "      --hover-fill-color: #FFFFFF;\n",
              "      --disabled-bg-color: #3B4455;\n",
              "      --disabled-fill-color: #666;\n",
              "  }\n",
              "\n",
              "  .colab-df-quickchart {\n",
              "    background-color: var(--bg-color);\n",
              "    border: none;\n",
              "    border-radius: 50%;\n",
              "    cursor: pointer;\n",
              "    display: none;\n",
              "    fill: var(--fill-color);\n",
              "    height: 32px;\n",
              "    padding: 0;\n",
              "    width: 32px;\n",
              "  }\n",
              "\n",
              "  .colab-df-quickchart:hover {\n",
              "    background-color: var(--hover-bg-color);\n",
              "    box-shadow: 0 1px 2px rgba(60, 64, 67, 0.3), 0 1px 3px 1px rgba(60, 64, 67, 0.15);\n",
              "    fill: var(--button-hover-fill-color);\n",
              "  }\n",
              "\n",
              "  .colab-df-quickchart-complete:disabled,\n",
              "  .colab-df-quickchart-complete:disabled:hover {\n",
              "    background-color: var(--disabled-bg-color);\n",
              "    fill: var(--disabled-fill-color);\n",
              "    box-shadow: none;\n",
              "  }\n",
              "\n",
              "  .colab-df-spinner {\n",
              "    border: 2px solid var(--fill-color);\n",
              "    border-color: transparent;\n",
              "    border-bottom-color: var(--fill-color);\n",
              "    animation:\n",
              "      spin 1s steps(1) infinite;\n",
              "  }\n",
              "\n",
              "  @keyframes spin {\n",
              "    0% {\n",
              "      border-color: transparent;\n",
              "      border-bottom-color: var(--fill-color);\n",
              "      border-left-color: var(--fill-color);\n",
              "    }\n",
              "    20% {\n",
              "      border-color: transparent;\n",
              "      border-left-color: var(--fill-color);\n",
              "      border-top-color: var(--fill-color);\n",
              "    }\n",
              "    30% {\n",
              "      border-color: transparent;\n",
              "      border-left-color: var(--fill-color);\n",
              "      border-top-color: var(--fill-color);\n",
              "      border-right-color: var(--fill-color);\n",
              "    }\n",
              "    40% {\n",
              "      border-color: transparent;\n",
              "      border-right-color: var(--fill-color);\n",
              "      border-top-color: var(--fill-color);\n",
              "    }\n",
              "    60% {\n",
              "      border-color: transparent;\n",
              "      border-right-color: var(--fill-color);\n",
              "    }\n",
              "    80% {\n",
              "      border-color: transparent;\n",
              "      border-right-color: var(--fill-color);\n",
              "      border-bottom-color: var(--fill-color);\n",
              "    }\n",
              "    90% {\n",
              "      border-color: transparent;\n",
              "      border-bottom-color: var(--fill-color);\n",
              "    }\n",
              "  }\n",
              "</style>\n",
              "\n",
              "  <script>\n",
              "    async function quickchart(key) {\n",
              "      const quickchartButtonEl =\n",
              "        document.querySelector('#' + key + ' button');\n",
              "      quickchartButtonEl.disabled = true;  // To prevent multiple clicks.\n",
              "      quickchartButtonEl.classList.add('colab-df-spinner');\n",
              "      try {\n",
              "        const charts = await google.colab.kernel.invokeFunction(\n",
              "            'suggestCharts', [key], {});\n",
              "      } catch (error) {\n",
              "        console.error('Error during call to suggestCharts:', error);\n",
              "      }\n",
              "      quickchartButtonEl.classList.remove('colab-df-spinner');\n",
              "      quickchartButtonEl.classList.add('colab-df-quickchart-complete');\n",
              "    }\n",
              "    (() => {\n",
              "      let quickchartButtonEl =\n",
              "        document.querySelector('#df-b7b41908-23c4-4cd6-b29b-37ef66c38410 button');\n",
              "      quickchartButtonEl.style.display =\n",
              "        google.colab.kernel.accessAllowed ? 'block' : 'none';\n",
              "    })();\n",
              "  </script>\n",
              "</div>\n",
              "    </div>\n",
              "  </div>\n"
            ],
            "application/vnd.google.colaboratory.intrinsic+json": {
              "type": "dataframe",
              "variable_name": "df_merged_exp",
              "summary": "{\n  \"name\": \"df_merged_exp\",\n  \"rows\": 67,\n  \"fields\": [\n    {\n      \"column\": \"\\u041a\\u0430\\u0442\\u0435\\u0433\\u043e\\u0440\\u0438\\u0438 \\u0440\\u0430\\u0441\\u0445\\u043e\\u0434\\u043e\\u0432\",\n      \"properties\": {\n        \"dtype\": \"string\",\n        \"num_unique_values\": 67,\n        \"samples\": [\n          \"\\u0422\\u0440\\u0430\\u043d\\u0441\\u043f\\u043e\\u0440\\u0442\",\n          \"\\u0423\\u0432\\u0435\\u043b\\u0438\\u0447\\u0435\\u043d\\u0438\\u0435 \\u0441\\u0442\\u043e\\u0438\\u043c\\u043e\\u0441\\u0442\\u0438 \\u043c\\u0430\\u0442\\u0435\\u0440\\u0438\\u0430\\u043b\\u044c\\u043d\\u044b\\u0445 \\u0437\\u0430\\u043f\\u0430\\u0441\\u043e\\u0432\",\n          \"\\u0423\\u0441\\u043b\\u0443\\u0433\\u0438 \\u0441\\u0432\\u044f\\u0437\\u0438\"\n        ],\n        \"semantic_type\": \"\",\n        \"description\": \"\"\n      }\n    },\n    {\n      \"column\": \"2010\",\n      \"properties\": {\n        \"dtype\": \"date\",\n        \"min\": 4416,\n        \"max\": 8409842392.39,\n        \"num_unique_values\": 54,\n        \"samples\": [\n          444241209.35,\n          537913966.74,\n          92681506.6\n        ],\n        \"semantic_type\": \"\",\n        \"description\": \"\"\n      }\n    },\n    {\n      \"column\": \"2011\",\n      \"properties\": {\n        \"dtype\": \"date\",\n        \"min\": 702100,\n        \"max\": 5510346051.32,\n        \"num_unique_values\": 57,\n        \"samples\": [\n          716389112.95,\n          7138766.69,\n          33572946.32\n        ],\n        \"semantic_type\": \"\",\n        \"description\": \"\"\n      }\n    },\n    {\n      \"column\": \"2012\",\n      \"properties\": {\n        \"dtype\": \"date\",\n        \"min\": 0,\n        \"max\": 5459395243.98,\n        \"num_unique_values\": 55,\n        \"samples\": [\n          308743721.04,\n          837255.21,\n          383042452.82\n        ],\n        \"semantic_type\": \"\",\n        \"description\": \"\"\n      }\n    },\n    {\n      \"column\": \"2013\",\n      \"properties\": {\n        \"dtype\": \"date\",\n        \"min\": 0,\n        \"max\": 5304087769.94,\n        \"num_unique_values\": 52,\n        \"samples\": [\n          447753735.68,\n          33526207,\n          132832320.3\n        ],\n        \"semantic_type\": \"\",\n        \"description\": \"\"\n      }\n    },\n    {\n      \"column\": \"2014\",\n      \"properties\": {\n        \"dtype\": \"date\",\n        \"min\": 0,\n        \"max\": 5233812238.52,\n        \"num_unique_values\": 53,\n        \"samples\": [\n          469856772.38,\n          3376000,\n          74332900\n        ],\n        \"semantic_type\": \"\",\n        \"description\": \"\"\n      }\n    },\n    {\n      \"column\": \"2015\",\n      \"properties\": {\n        \"dtype\": \"date\",\n        \"min\": 0,\n        \"max\": 5513860322.93,\n        \"num_unique_values\": 53,\n        \"samples\": [\n          442264841.52,\n          3403000,\n          49608300\n        ],\n        \"semantic_type\": \"\",\n        \"description\": \"\"\n      }\n    }\n  ]\n}"
            }
          },
          "metadata": {},
          "execution_count": 29
        }
      ]
    },
    {
      "cell_type": "code",
      "source": [
        "for i in range(6, 10):\n",
        "  dfs = pd.read_excel(f'/content/201{i}.xlsx', sheet_name=f'расходы (исполнено) 201{i}', usecols=[1, 5], header=None, index_col=0, names=['Категории расходов', f'201{i}'])\n",
        "  if i != 8:\n",
        "    expences.append(dfs.iloc[1, 0])\n",
        "  else:\n",
        "    expences.append(dfs.iloc[2, 0])\n",
        "  df_merged_exp = df_merged_exp.join([dfs],  how='inner')"
      ],
      "metadata": {
        "id": "dRkWsCAl7xkL"
      },
      "execution_count": 30,
      "outputs": []
    },
    {
      "cell_type": "code",
      "source": [
        "df20 = pd.read_excel('/content/2020.xlsx', sheet_name='расходы (исполнено) 2020', usecols=[1, 5], header=None, index_col=0, names=['Категории расходов', '2020'])\n",
        "expences.append(df20.iloc[3, 0])\n",
        "df_merged_exp = df_merged_exp.join([df20], how='inner')\n",
        "df_merged_exp\n",
        "expences"
      ],
      "metadata": {
        "id": "eUtmShiI8HPo",
        "outputId": "78efb739-2854-49da-ccf2-bfa52e16eb88",
        "colab": {
          "base_uri": "https://localhost:8080/"
        }
      },
      "execution_count": 31,
      "outputs": [
        {
          "output_type": "execute_result",
          "data": {
            "text/plain": [
              "[25641875414.57,\n",
              " 27631246903.81,\n",
              " 29140749888.23,\n",
              " 28754420604.42,\n",
              " 31039085086.34,\n",
              " 31356669427.82,\n",
              " 34508364905.09,\n",
              " 36810091699.46,\n",
              " 43076921835.03,\n",
              " 50268395809.96,\n",
              " 67616189896.19]"
            ]
          },
          "metadata": {},
          "execution_count": 31
        }
      ]
    },
    {
      "cell_type": "code",
      "source": [
        "del incomes[0]\n",
        "del expences[0]"
      ],
      "metadata": {
        "id": "bKNOeZeS74zG"
      },
      "execution_count": 32,
      "outputs": []
    },
    {
      "cell_type": "code",
      "source": [
        "has_duplicates = df_merged_exp.index.duplicated().any()\n",
        "\n",
        "if has_duplicates:\n",
        "    print(\"В DataFrame есть дубликаты индексов.\")\n",
        "else:\n",
        "    print(\"В DataFrame нет дубликатов индексов.\")\n",
        "incomes"
      ],
      "metadata": {
        "id": "jN9p4zmtkD7H",
        "outputId": "2f49ce46-0148-4e23-c5ef-147af3e71ea0",
        "colab": {
          "base_uri": "https://localhost:8080/"
        }
      },
      "execution_count": 33,
      "outputs": [
        {
          "output_type": "stream",
          "name": "stdout",
          "text": [
            "В DataFrame нет дубликатов индексов.\n"
          ]
        },
        {
          "output_type": "execute_result",
          "data": {
            "text/plain": [
              "[27556466680.93,\n",
              " 26893154749.54,\n",
              " 23984242603.04,\n",
              " 27750206180.02,\n",
              " 28390875283.93,\n",
              " 32546447594.29,\n",
              " 34385355496.24,\n",
              " 47268601337.1,\n",
              " 51272761265.22,\n",
              " 60597379486.3]"
            ]
          },
          "metadata": {},
          "execution_count": 33
        }
      ]
    },
    {
      "cell_type": "code",
      "source": [
        "df_merged_budget = pd.concat([df_merged_income, df_merged_exp], axis=0)\n",
        "df_merged_budget = df_merged_budget.T\n",
        "df_merged_budget['Итоговые доходы на следующий год'] = incomes + [sum(incomes)/len(incomes)]\n",
        "df_merged_budget['Итоговые расходы на следующий год'] = expences + [sum(expences)/len(expences)]"
      ],
      "metadata": {
        "id": "ST2MzFpCt4-Z"
      },
      "execution_count": 34,
      "outputs": []
    },
    {
      "cell_type": "markdown",
      "source": [
        "## 1. Предобработка датасета (2 балла)\n",
        "\n",
        "- изучи датасет\n",
        "- очисти данные в нём (есть ли в нём пропуски и выбросы? что ты можешь с ними сделать? сделай это.)"
      ],
      "metadata": {
        "id": "C1yTdRujZ5FS"
      }
    },
    {
      "cell_type": "code",
      "source": [
        "df_merged_budget = df_merged_budget.fillna(df_merged_budget.mean()) #заполняем все пропуски средним значением по столбцу, поскольку пропуски есть\n",
        "#такое заполнение я считаю наиболее логичным, поскольку мы рассматриваем ну не очень большой временной промежуток, а потому, данные год от года не должны прям сильно отличаться друг от друга\n",
        "df_merged_budget.isnull().values.any()"
      ],
      "metadata": {
        "id": "9oXShw7_Qebh",
        "outputId": "872b977c-dbe9-4b87-fb39-51f24ffa4d7e",
        "colab": {
          "base_uri": "https://localhost:8080/"
        }
      },
      "execution_count": 35,
      "outputs": [
        {
          "output_type": "stream",
          "name": "stderr",
          "text": [
            "<ipython-input-35-79beba0c21c7>:1: FutureWarning: Downcasting object dtype arrays on .fillna, .ffill, .bfill is deprecated and will change in a future version. Call result.infer_objects(copy=False) instead. To opt-in to the future behavior, set `pd.set_option('future.no_silent_downcasting', True)`\n",
            "  df_merged_budget = df_merged_budget.fillna(df_merged_budget.mean()) #заполняем все пропуски средним значением по столбцу, поскольку пропуски есть\n"
          ]
        },
        {
          "output_type": "execute_result",
          "data": {
            "text/plain": [
              "False"
            ]
          },
          "metadata": {},
          "execution_count": 35
        }
      ]
    },
    {
      "cell_type": "code",
      "source": [
        "cols_with_both = [\n",
        "    col for col in df_merged_budget.columns\n",
        "    if (df_merged_budget[col] > 0).any() and (df_merged_budget[col] < 0).any()\n",
        "]\n",
        "cols_with_both\n",
        "#этот код нужен был для того, чтобы понять, а можно ли все данные сделать больше нуля, чтобы потом применить к ним логарифм. Как видим, нет, потому что есть столбцы, в которых значения одновременно больше нуля и меньше и это испортит корреляцию"
      ],
      "metadata": {
        "id": "B0MnARxYE6MR",
        "outputId": "d17dd3d7-0ca4-4161-d046-fc1d1f754051",
        "colab": {
          "base_uri": "https://localhost:8080/"
        }
      },
      "execution_count": 36,
      "outputs": [
        {
          "output_type": "execute_result",
          "data": {
            "text/plain": [
              "['Единый сельскохозяйственный налог',\n",
              " 'Налог на игорный бизнес',\n",
              " 'ЗАДОЛЖЕННОСТЬ И ПЕРЕРАСЧЕТЫ ПО ОТМЕНЕННЫМ НАЛОГАМ, СБОРАМ И ИНЫМ ОБЯЗАТЕЛЬНЫМ ПЛАТЕЖАМ',\n",
              " 'Налог на прибыль организаций, зачислявшийся до 1 января 2005 года в местные бюджеты',\n",
              " 'Налог на прибыль организаций, зачислявшийся до 1 января 2005 года в местные бюджеты, мобилизуемый на территориях муниципальных районов',\n",
              " 'Платежи за пользование природными ресурсами',\n",
              " 'Платежи за добычу полезных ископаемых',\n",
              " 'Платежи за добычу подземных вод',\n",
              " 'Налоги на имущество',\n",
              " 'Налог на имущество предприятий',\n",
              " 'Налог с владельцев транспортных средств и налог на приобретение автотранспортных средств',\n",
              " 'Налог на пользователей автомобильных дорог',\n",
              " 'Налог с имущества, переходящего в порядке наследования или дарения',\n",
              " 'Денежные взыскания (штрафы) за нарушение законодательства о налогах и сборах',\n",
              " 'ПРОЧИЕ НЕНАЛОГОВЫЕ ДОХОДЫ',\n",
              " 'Невыясненные поступления',\n",
              " 'Невыясненные поступления, зачисляемые в бюджеты субъектов Российской Федерации',\n",
              " 'БЕЗВОЗМЕЗДНЫЕ ПОСТУПЛЕНИЯ ОТ ГОСУДАРСТВЕННЫХ (МУНИЦИПАЛЬНЫХ) ОРГАНИЗАЦИЙ']"
            ]
          },
          "metadata": {},
          "execution_count": 36
        }
      ]
    },
    {
      "cell_type": "code",
      "source": [
        "df_merged_budget_arcsin = np.arcsinh(df_merged_budget)\n",
        "#проблему с логарифмами может решить обратный гиперболический синус. Но пока не будем его использовать"
      ],
      "metadata": {
        "id": "irnlAtGlC93F"
      },
      "execution_count": 37,
      "outputs": []
    },
    {
      "cell_type": "code",
      "source": [
        "import matplotlib.pyplot as plt\n",
        "import seaborn as sns\n",
        "plt.figure(figsize=(10, 6))\n",
        "sns.boxplot(data=df_merged_budget)\n",
        "plt.show()"
      ],
      "metadata": {
        "id": "0-X4Wp9-KZR4",
        "outputId": "fd569ec5-931e-4f86-f9eb-8687a0d0c62d",
        "colab": {
          "base_uri": "https://localhost:8080/",
          "height": 239
        }
      },
      "execution_count": 38,
      "outputs": [
        {
          "output_type": "display_data",
          "data": {
            "text/plain": [
              "<Figure size 1000x600 with 1 Axes>"
            ],
            "image/png": "[encoded data removed]"
          },
          "metadata": {}
        }
      ]
    },
    {
      "cell_type": "code",
      "source": [
        "for col in df_merged_budget.columns:\n",
        "  lower_bound = df_merged_budget[col].quantile(0.15)\n",
        "  upper_bound = df_merged_budget[col].quantile(0.92)\n",
        "  df_merged_budget[col] = np.clip(df_merged_budget[col], lower_bound, upper_bound)"
      ],
      "metadata": {
        "id": "UAg_hPhKJSYg",
        "outputId": "ac8cd8df-f040-4419-fb35-99f69d77fb1f",
        "colab": {
          "base_uri": "https://localhost:8080/"
        }
      },
      "execution_count": 39,
      "outputs": [
        {
          "output_type": "stream",
          "name": "stderr",
          "text": [
            "/usr/local/lib/python3.11/dist-packages/numpy/core/fromnumeric.py:59: FutureWarning: Downcasting behavior in Series and DataFrame methods 'where', 'mask', and 'clip' is deprecated. In a future version this will not infer object dtypes or cast all-round floats to integers. Instead call result.infer_objects(copy=False) for object inference, or cast round floats explicitly. To opt-in to the future behavior, set `pd.set_option('future.no_silent_downcasting', True)`\n",
            "  return bound(*args, **kwds)\n",
            "/usr/local/lib/python3.11/dist-packages/numpy/core/fromnumeric.py:59: FutureWarning: Downcasting behavior in Series and DataFrame methods 'where', 'mask', and 'clip' is deprecated. In a future version this will not infer object dtypes or cast all-round floats to integers. Instead call result.infer_objects(copy=False) for object inference, or cast round floats explicitly. To opt-in to the future behavior, set `pd.set_option('future.no_silent_downcasting', True)`\n",
            "  return bound(*args, **kwds)\n",
            "/usr/local/lib/python3.11/dist-packages/numpy/core/fromnumeric.py:59: FutureWarning: Downcasting behavior in Series and DataFrame methods 'where', 'mask', and 'clip' is deprecated. In a future version this will not infer object dtypes or cast all-round floats to integers. Instead call result.infer_objects(copy=False) for object inference, or cast round floats explicitly. To opt-in to the future behavior, set `pd.set_option('future.no_silent_downcasting', True)`\n",
            "  return bound(*args, **kwds)\n"
          ]
        }
      ]
    },
    {
      "cell_type": "code",
      "source": [
        "import matplotlib.pyplot as plt\n",
        "import seaborn as sns\n",
        "plt.figure(figsize=(10, 6))\n",
        "sns.boxplot(data=df_merged_budget)\n",
        "plt.show()\n",
        "#как мы можем убедиться, после заполнения каждой из колонок граничными значениями по квантилям выбросов стало намного меньше"
      ],
      "metadata": {
        "id": "ub4E10MhGJ81",
        "outputId": "e94af057-1a18-4a4e-bf32-662ec090b275",
        "colab": {
          "base_uri": "https://localhost:8080/",
          "height": 239
        }
      },
      "execution_count": 40,
      "outputs": [
        {
          "output_type": "display_data",
          "data": {
            "text/plain": [
              "<Figure size 1000x600 with 1 Axes>"
            ],
            "image/png": "[encoded data removed]"
          },
          "metadata": {}
        }
      ]
    },
    {
      "cell_type": "markdown",
      "source": [
        "## 2. Найди параметры, которые влияют на бюджет (3.5 балла)\n",
        "\n",
        "Поэкспериментируй с параметрами, найди 3 параметра, которые сильно связаны с значением бюджета Карелии за год (тут есть две цифры - расходы бюджета ИТОГО и доходы бюджета ИТОГО - искать параметры надо к обоим на основе **предыдущего года**) (при помощи коэффициента корреляции). Настоятельно рекомендуем поиграть с разными параметрами  - попробовать линейные комбинации, некоторые функции от параметров (log, возведение в степень, etc).\n",
        "\n",
        "Оставь весь код экспериментов в этом блоке, но в конце опиши, какие параметры в итоге ты берёшь."
      ],
      "metadata": {
        "id": "V1zl1kvJaFnr"
      }
    },
    {
      "cell_type": "markdown",
      "source": [
        "\n",
        "\n",
        "---\n",
        "\n",
        "\n",
        "\n",
        "**Что я хочу сделать?**\n",
        "\n",
        "* Взять и найти сначала по 3 параметра, наиболее скррелированных с целевыми переменными\n",
        "\n",
        "* Попробовать линейную комбинацию этих параметров. Например, взять их сумму с какими-то коэффициентами и посмотреть на корреляцию с целевой переменной.\n",
        "\n",
        "*  Взять рандомную линейную комбинацию логарифмов рандомных столбцов и посмотреть, насколько сиьльно они скоррелированны с логарифмами целевых переменных\n",
        "\n"
      ],
      "metadata": {
        "id": "FrJsw6rIUXmQ"
      }
    },
    {
      "cell_type": "code",
      "source": [
        "targets = df_merged_budget[['Итоговые доходы на следующий год', 'Итоговые расходы на следующий год']]\n",
        "df_merged_budget_no_t = df_merged_budget.drop(columns=['Итоговые доходы на следующий год', 'Итоговые расходы на следующий год'])\n",
        "cor_with_inc=dict()\n",
        "cor_with_exp=dict()\n",
        "for col in df_merged_budget_no_t.columns:\n",
        "  cor_with_inc[col] = df_merged_budget_no_t[col].corr(targets['Итоговые доходы на следующий год'])\n",
        "  cor_with_exp[col] = df_merged_budget_no_t[col].corr(targets['Итоговые расходы на следующий год'])"
      ],
      "metadata": {
        "id": "qvlCJPF4alOS",
        "outputId": "7ffbf2e2-46a8-4e51-85c1-d9feaf7299dd",
        "colab": {
          "base_uri": "https://localhost:8080/"
        }
      },
      "execution_count": 42,
      "outputs": [
        {
          "output_type": "stream",
          "name": "stderr",
          "text": [
            "/usr/local/lib/python3.11/dist-packages/numpy/lib/function_base.py:2897: RuntimeWarning: invalid value encountered in divide\n",
            "  c /= stddev[:, None]\n",
            "/usr/local/lib/python3.11/dist-packages/numpy/lib/function_base.py:2898: RuntimeWarning: invalid value encountered in divide\n",
            "  c /= stddev[None, :]\n"
          ]
        }
      ]
    },
    {
      "cell_type": "code",
      "source": [
        "df_of_tops_inc = pd.DataFrame(list(cor_with_inc.items()), columns=['Col', 'Corr'])\n",
        "top_3 = df_of_tops_inc.nlargest(3, 'Corr')\n",
        "top_3_cols_inc = top_3['Col'].tolist()\n",
        "top_3_corrs_inc = top_3['Corr'].tolist()"
      ],
      "metadata": {
        "id": "8JIkqEv5Sjt3"
      },
      "execution_count": 43,
      "outputs": []
    },
    {
      "cell_type": "code",
      "source": [
        "weights = [0.6, 0.2, 0.2]\n",
        "lin_comb_inc = sum(df_merged_budget_no_t[col] * weight for col, weight in zip(top_3_cols_inc, weights))\n",
        "df_merged_budget_no_t = pd.concat([df_merged_budget_no_t, lin_comb_inc.rename('lin_comb_of_top_inc')], axis=1)\n",
        "\n",
        "cor_with_inc_comb = df_merged_budget_no_t['lin_comb_of_top_inc'].corr(targets['Итоговые доходы на следующий год'])"
      ],
      "metadata": {
        "id": "_r4_OyLRvEbw"
      },
      "execution_count": 44,
      "outputs": []
    },
    {
      "cell_type": "code",
      "source": [
        "np.array(top_3_corrs_inc) < cor_with_inc_comb\n",
        "#как мы видим, линейная комбинация столбцов дает корреляцию с целевой переменной намного большую, чем столбцы по-отдельности."
      ],
      "metadata": {
        "id": "EZACfEcrzQju",
        "outputId": "f275f18a-31ff-4ac2-8e01-97766702b215",
        "colab": {
          "base_uri": "https://localhost:8080/"
        }
      },
      "execution_count": 45,
      "outputs": [
        {
          "output_type": "execute_result",
          "data": {
            "text/plain": [
              "array([ True,  True,  True])"
            ]
          },
          "metadata": {},
          "execution_count": 45
        }
      ]
    },
    {
      "cell_type": "code",
      "source": [
        "lin_comb_inc_log = sum(np.log(df_merged_budget_no_t[col]) * weight for col, weight in zip(top_3_cols_inc, weights))\n",
        "df_merged_budget_no_t = pd.concat([df_merged_budget_no_t, lin_comb_inc_log.rename('log_lin_comb_of_top_inc')], axis=1)\n",
        "\n",
        "cor_with_log_inc_comb = df_merged_budget_no_t['log_lin_comb_of_top_inc'].corr(np.log(targets['Итоговые доходы на следующий год']))"
      ],
      "metadata": {
        "id": "y9tPGJV71ioX"
      },
      "execution_count": 46,
      "outputs": []
    },
    {
      "cell_type": "code",
      "source": [
        "print(cor_with_log_inc_comb < cor_with_inc_comb)\n",
        "#как мы видим, брать сумму логарифмов от параметров хоть и дает высокую корреляцию, но все же ниже, чем просто сумма"
      ],
      "metadata": {
        "id": "4seMHu1O3HwN",
        "outputId": "6a075472-1537-4ad8-ca1f-6ff1e2814f60",
        "colab": {
          "base_uri": "https://localhost:8080/"
        }
      },
      "execution_count": 47,
      "outputs": [
        {
          "output_type": "stream",
          "name": "stdout",
          "text": [
            "True\n"
          ]
        }
      ]
    },
    {
      "cell_type": "markdown",
      "source": [
        "**Теперь проделаем ту же работу с индексами, но для расходов**"
      ],
      "metadata": {
        "id": "so6tqqEQ3uqR"
      }
    },
    {
      "cell_type": "code",
      "source": [
        "df_of_tops_exp = pd.DataFrame(list(cor_with_exp.items()), columns=['Col', 'Corr'])\n",
        "top_3_exp = df_of_tops_exp.nlargest(3, 'Corr')\n",
        "top_3_cols_exp = top_3_exp['Col'].tolist()\n",
        "top_3_corrs_exp = top_3_exp['Corr'].tolist()"
      ],
      "metadata": {
        "id": "eN3oGwTV31pE"
      },
      "execution_count": 48,
      "outputs": []
    },
    {
      "cell_type": "code",
      "source": [
        "weights = [0.5, 0.3, 0.2]\n",
        "lin_comb_exp = sum(df_merged_budget_no_t[col] * weight for col, weight in zip(top_3_cols_exp, weights))\n",
        "df_merged_budget_no_t = pd.concat([df_merged_budget_no_t, lin_comb_exp.rename('lin_comb_of_top_exp')], axis=1)\n",
        "\n",
        "cor_with_exp_comb = df_merged_budget_no_t['lin_comb_of_top_exp'].corr(targets['Итоговые расходы на следующий год'])"
      ],
      "metadata": {
        "id": "rl-F_ooA3_5V"
      },
      "execution_count": 49,
      "outputs": []
    },
    {
      "cell_type": "code",
      "source": [
        "np.array(top_3_corrs_exp) < cor_with_exp_comb\n",
        "#и как мы видим, снова линейная комбинация дала лучший результат корреляции, чем отдельные параметры"
      ],
      "metadata": {
        "id": "F1M_H0-R4iDL",
        "outputId": "4482d2ba-f824-45b7-b4cd-29afd2c3f79f",
        "colab": {
          "base_uri": "https://localhost:8080/"
        }
      },
      "execution_count": 50,
      "outputs": [
        {
          "output_type": "execute_result",
          "data": {
            "text/plain": [
              "array([ True,  True,  True])"
            ]
          },
          "metadata": {},
          "execution_count": 50
        }
      ]
    },
    {
      "cell_type": "code",
      "source": [
        "lin_comb_exp_log = sum(np.log(df_merged_budget_no_t[col]) * weight for col, weight in zip(top_3_cols_exp, weights))\n",
        "df_merged_budget_no_t = pd.concat([df_merged_budget_no_t, lin_comb_exp_log.rename('log_lin_comb_of_top_exp')], axis=1)\n",
        "\n",
        "cor_with_log_exp_comb = df_merged_budget_no_t['log_lin_comb_of_top_exp'].corr(np.log(targets['Итоговые расходы на следующий год']))"
      ],
      "metadata": {
        "id": "McAcFV-H4yEz"
      },
      "execution_count": 51,
      "outputs": []
    },
    {
      "cell_type": "code",
      "source": [
        "print(cor_with_log_exp_comb > cor_with_exp_comb)"
      ],
      "metadata": {
        "id": "RF9jKYvi5OW4",
        "outputId": "e3b858d9-8929-444d-e418-84b9a0aece12",
        "colab": {
          "base_uri": "https://localhost:8080/"
        }
      },
      "execution_count": 52,
      "outputs": [
        {
          "output_type": "stream",
          "name": "stdout",
          "text": [
            "False\n"
          ]
        }
      ]
    },
    {
      "cell_type": "markdown",
      "source": [
        "**Теперь возьмем просто три рандомных столбца по приколу и посмотрим на их корреляцию с доходами и с расходами**"
      ],
      "metadata": {
        "id": "vzGCVZT658a7"
      }
    },
    {
      "cell_type": "code",
      "source": [
        "columns_for_cor = df_merged_budget_no_t.iloc[:, [81, 118, 181]]\n",
        "weights = [0.5, 0.4, 0.1]\n",
        "lin_comb_of_rand_cols = sum(df_merged_budget_no_t[col] * weight for col, weight in zip(columns_for_cor, weights))\n",
        "df_merged_budget_no_t = pd.concat([df_merged_budget_no_t, lin_comb_of_rand_cols.rename('lin_comb_of_rand_cols')], axis=1)"
      ],
      "metadata": {
        "id": "0thWe6BJ6LoV"
      },
      "execution_count": 53,
      "outputs": []
    },
    {
      "cell_type": "code",
      "source": [
        "cor_with_inc_rand_comb = df_merged_budget_no_t['lin_comb_of_rand_cols'].corr(targets['Итоговые доходы на следующий год'])\n",
        "cor_with_exp_rand_comb = df_merged_budget_no_t['lin_comb_of_rand_cols'].corr(targets['Итоговые расходы на следующий год'])\n",
        "print(cor_with_inc_rand_comb)\n",
        "print(cor_with_exp_rand_comb)\n",
        "#ну, как можно увидеть, комбинация не удалась. Но попытка - не пытка :)"
      ],
      "metadata": {
        "id": "WzUSWPXX8t7k",
        "outputId": "0937f29a-55ce-47fc-b103-55aaa1d72f65",
        "colab": {
          "base_uri": "https://localhost:8080/"
        }
      },
      "execution_count": 54,
      "outputs": [
        {
          "output_type": "stream",
          "name": "stdout",
          "text": [
            "0.24645373545924593\n",
            "0.26973258746253437\n"
          ]
        }
      ]
    },
    {
      "cell_type": "code",
      "source": [
        "top_3_cols_inc"
      ],
      "metadata": {
        "id": "gg9ZXPY29T4a",
        "outputId": "1b3b7f15-1caf-4005-e28f-e515f13a2d9f",
        "colab": {
          "base_uri": "https://localhost:8080/"
        }
      },
      "execution_count": 55,
      "outputs": [
        {
          "output_type": "execute_result",
          "data": {
            "text/plain": [
              "['ГОСУДАРСТВЕННАЯ ПОШЛИНА',\n",
              " 'Государственная пошлина за государственную регистрацию, а также за совершение прочих юридически значимых действий',\n",
              " 'Коммунальное хозяйство']"
            ]
          },
          "metadata": {},
          "execution_count": 55
        }
      ]
    },
    {
      "cell_type": "code",
      "source": [
        "top_3_cols_exp"
      ],
      "metadata": {
        "id": "YlG5c-mn9XHu",
        "outputId": "8cd5abb3-1a10-43f1-d2ed-30dacb877e48",
        "colab": {
          "base_uri": "https://localhost:8080/"
        }
      },
      "execution_count": 56,
      "outputs": [
        {
          "output_type": "execute_result",
          "data": {
            "text/plain": [
              "['Коммунальное хозяйство',\n",
              " 'ГОСУДАРСТВЕННАЯ ПОШЛИНА',\n",
              " 'Государственная пошлина за государственную регистрацию, а также за совершение прочих юридически значимых действий']"
            ]
          },
          "metadata": {},
          "execution_count": 56
        }
      ]
    },
    {
      "cell_type": "markdown",
      "source": [
        "И тут стало грустно, поскольку что с расходами, что с доходами 3 наиболее скоррелированных параметра совпадают. Поэтому я решил поступить следующим образом. Во-первых, не хочется брать две государственные пошлины, потому что они друг с другом скоррелированы, а корреляция параметров, как известно, это не очень - поэтому возьмем что-то еще для доходов. Во-вторых, раз уж параметры у доходов и расходов совпали, а их линейная комбинация дает большую корреляцию - то для расходов возьмем линейную комбинацию, но только гос. пошлины и коммунального хозяйства, потому что вторая пошлина скоррелированна с гос.пошлиной. А также топ-4 и топ-5 скоррелированных параметров.\n"
      ],
      "metadata": {
        "id": "NsBpIKZc905Q"
      }
    },
    {
      "cell_type": "code",
      "source": [
        "top_5_exp = df_of_tops_exp.nlargest(5, 'Corr')\n",
        "top_5_cols_exp = top_5_exp['Col'].tolist()\n",
        "top_5_corrs_exp = top_5_exp['Corr'].tolist()\n",
        "top_5_cols_exp[3:5]"
      ],
      "metadata": {
        "id": "uOOS8r3J-0zx",
        "outputId": "a579215a-e913-4e80-81bb-845b51631dc9",
        "colab": {
          "base_uri": "https://localhost:8080/"
        }
      },
      "execution_count": 57,
      "outputs": [
        {
          "output_type": "execute_result",
          "data": {
            "text/plain": [
              "['Акцизы на пиво, производимое на территории Российской Федерации',\n",
              " 'Доходы в виде прибыли, приходящейся на доли в уставных (складочных) капиталах хозяйственных товариществ и обществ, или дивидендов по акциям, принадлежащим Российской Федерации, субъектам Российской Федерации или муниципальным образованиям']"
            ]
          },
          "metadata": {},
          "execution_count": 57
        }
      ]
    },
    {
      "cell_type": "markdown",
      "source": [
        "---\n",
        "И тут я посмотрел на топ-5 параметров, скоррелированных с расходом - и понимаю, что все они является параметрами дохода, поэтому решил взять линейную комбинацию из менее скоррелированных параметров, но зато являющимися параметрами расходов. Поэтому дальше вы можете увидеть, как я беру не топ-5, а уже топ-10, чтобы составить из каких-нибудь из них неплохую линейную комбинацию."
      ],
      "metadata": {
        "id": "eHJXkVSZKG_S"
      }
    },
    {
      "cell_type": "code",
      "source": [
        "top_15_exp = df_of_tops_exp.nlargest(15, 'Corr')\n",
        "top_15_cols_exp = top_15_exp['Col'].tolist()\n",
        "top_15_corrs_exp = top_15_exp['Corr'].tolist()\n",
        "top_15_cols_exp[3:15]"
      ],
      "metadata": {
        "id": "IBg1WIhQKI_6",
        "outputId": "6a5f22d6-1fe0-43c8-9859-9e73d809ab0d",
        "colab": {
          "base_uri": "https://localhost:8080/"
        }
      },
      "execution_count": 58,
      "outputs": [
        {
          "output_type": "execute_result",
          "data": {
            "text/plain": [
              "['Акцизы на пиво, производимое на территории Российской Федерации',\n",
              " 'Доходы в виде прибыли, приходящейся на доли в уставных (складочных) капиталах хозяйственных товариществ и обществ, или дивидендов по акциям, принадлежащим Российской Федерации, субъектам Российской Федерации или муниципальным образованиям',\n",
              " 'Налог, взимаемый с налогоплательщиков, выбравших в качестве объекта налогообложения доходы, уменьшенные на величину расходов',\n",
              " 'Налог на имущество организаций по имуществу, входящему в Единую систему газоснабжения',\n",
              " 'Государственная пошлина за совершение действий, связанных с лицензированием, с проведением аттестации в случаях, если такая аттестация предусмотрена законодательством Российской Федерации',\n",
              " 'Государственная пошлина за совершение действий, связанных с лицензированием, с проведением аттестации в случаях, если такая аттестация предусмотрена законодательством Российской Федерации, зачисляемая в бюджеты субъектов Российской Федерации',\n",
              " 'НАЛОГИ НА ПРИБЫЛЬ, ДОХОДЫ',\n",
              " 'НАЛОГИ НА СОВОКУПНЫЙ ДОХОД',\n",
              " 'Налог, взимаемый в связи с применением упрощенной системы налогообложения',\n",
              " 'ПЛАТЕЖИ ПРИ ПОЛЬЗОВАНИИ ПРИРОДНЫМИ РЕСУРСАМИ',\n",
              " 'Транспортный налог с физических лиц',\n",
              " 'Другие вопросы в области образования']"
            ]
          },
          "metadata": {},
          "execution_count": 58
        }
      ]
    },
    {
      "cell_type": "code",
      "source": [
        "chosen_cols = top_15_cols_exp[12:15]\n",
        "weights = [0.6, 0.3, 0.1]\n",
        "lin_comb_of_chosen_cols = sum(df_merged_budget_no_t[col] * weight for col, weight in zip(chosen_cols, weights))\n",
        "df_merged_budget_no_t = pd.concat([df_merged_budget_no_t, lin_comb_of_chosen_cols.rename('Resources_Transport_Education_Combination')], axis=1)"
      ],
      "metadata": {
        "id": "3dDj02vCKmSy"
      },
      "execution_count": 59,
      "outputs": []
    },
    {
      "cell_type": "code",
      "source": [
        "cor_with_exp_chosen_comb = df_merged_budget_no_t['Resources_Transport_Education_Combination'].corr(targets['Итоговые расходы на следующий год'])\n",
        "np.array(top_15_corrs_exp) < cor_with_exp_chosen_comb"
      ],
      "metadata": {
        "id": "ZedsUTbqK_rv",
        "outputId": "e2252c03-52b0-4970-8c05-f9dd66dd417f",
        "colab": {
          "base_uri": "https://localhost:8080/"
        }
      },
      "execution_count": 60,
      "outputs": [
        {
          "output_type": "execute_result",
          "data": {
            "text/plain": [
              "array([False, False, False, False, False, False, False,  True,  True,\n",
              "        True,  True,  True,  True,  True,  True])"
            ]
          },
          "metadata": {},
          "execution_count": 60
        }
      ]
    },
    {
      "cell_type": "markdown",
      "source": [
        "**Хотя это и не является топ-3 параметром, но все же я его выберу как параметр, который является одним из наиболее скоррелированных с расходами, поскольку он включает в себя параметр из расходов, а также разница с топами в корреляции довольно мала**\n",
        "\n",
        "\n",
        "\n",
        "---\n",
        "\n",
        "Ну и наконец, создадим линейную комбинацию из гос.пошлины и коммунального хозяйства:"
      ],
      "metadata": {
        "id": "pE7lmmRNMGfD"
      }
    },
    {
      "cell_type": "code",
      "source": [
        "chosen_cols_new = [top_15_cols_exp[0], top_15_cols_exp[1]]\n",
        "weights = [0.5, 0.5]\n",
        "lin_comb_of_chosen_cols_new = sum(df_merged_budget_no_t[col] * weight for col, weight in zip(chosen_cols_new, weights))\n",
        "df_merged_budget_no_t = pd.concat([df_merged_budget_no_t, lin_comb_of_chosen_cols_new.rename('StateDuty_Utilities_Combination')], axis=1)"
      ],
      "metadata": {
        "id": "_aE3ydtWOfaS"
      },
      "execution_count": 61,
      "outputs": []
    },
    {
      "cell_type": "code",
      "source": [
        "cor_with_exp_chosen_comb_new = df_merged_budget_no_t['StateDuty_Utilities_Combination'].corr(targets['Итоговые расходы на следующий год'])\n",
        "np.array(top_15_corrs_exp) < cor_with_exp_chosen_comb_new"
      ],
      "metadata": {
        "id": "sxdMIBt1PSqt",
        "outputId": "0c75f798-5712-4878-eccd-dfd350a4a552",
        "colab": {
          "base_uri": "https://localhost:8080/"
        }
      },
      "execution_count": 62,
      "outputs": [
        {
          "output_type": "execute_result",
          "data": {
            "text/plain": [
              "array([ True,  True,  True,  True,  True,  True,  True,  True,  True,\n",
              "        True,  True,  True,  True,  True,  True])"
            ]
          },
          "metadata": {},
          "execution_count": 62
        }
      ]
    },
    {
      "cell_type": "markdown",
      "source": [
        "Как мы видим, получилась очень сильная линейная комбинация, которую мы и возьмем. Третьим параметром, который мы возьмем, будет акциз на пиво, поскольку он не является гос. пошлиной и идет сразу после нее по скоррелированности"
      ],
      "metadata": {
        "id": "h1qqL-7BPd77"
      }
    },
    {
      "cell_type": "markdown",
      "source": [
        "\n",
        "\n",
        "---\n",
        "\n"
      ],
      "metadata": {
        "id": "u8IJqzi9KJrz"
      }
    },
    {
      "cell_type": "markdown",
      "source": [
        "Поскольку я не хочу брать для доходов вторую гос. пошлину, то найдем линейную комбинацию из других параметров, которая даст большую корреляцию, чем еще одна гос.пошлина"
      ],
      "metadata": {
        "id": "zdjAhCyMPzA8"
      }
    },
    {
      "cell_type": "code",
      "source": [
        "top_10_inc = df_of_tops_inc.nlargest(10, 'Corr')\n",
        "top_10_cols_inc = top_10_inc['Col'].tolist()\n",
        "top_10_corrs_inc = top_10_inc['Corr'].tolist()\n",
        "top_10_cols_inc[3:10]"
      ],
      "metadata": {
        "id": "fSHyfu9VHkP3",
        "outputId": "f59d5d44-881c-4f2c-d052-9a209a561693",
        "colab": {
          "base_uri": "https://localhost:8080/"
        }
      },
      "execution_count": 63,
      "outputs": [
        {
          "output_type": "execute_result",
          "data": {
            "text/plain": [
              "['Акцизы на пиво, производимое на территории Российской Федерации',\n",
              " 'Государственная пошлина за совершение действий, связанных с лицензированием, с проведением аттестации в случаях, если такая аттестация предусмотрена законодательством Российской Федерации',\n",
              " 'Государственная пошлина за совершение действий, связанных с лицензированием, с проведением аттестации в случаях, если такая аттестация предусмотрена законодательством Российской Федерации, зачисляемая в бюджеты субъектов Российской Федерации',\n",
              " 'Налог, взимаемый с налогоплательщиков, выбравших в качестве объекта налогообложения доходы, уменьшенные на величину расходов',\n",
              " 'Налог на имущество организаций по имуществу, входящему в Единую систему газоснабжения',\n",
              " 'Другие вопросы в области образования',\n",
              " 'Социальное обеспечение населения']"
            ]
          },
          "metadata": {},
          "execution_count": 63
        }
      ]
    },
    {
      "cell_type": "code",
      "source": [
        "chosen_cols_for_inc = [top_10_cols_inc[6], top_10_cols_inc[7]]\n",
        "weights = [0.6, 0.4]\n",
        "lin_comb_of_chosen_for_inc = sum(df_merged_budget_no_t[col] * weight for col, weight in zip(chosen_cols_for_inc, weights))\n",
        "df_merged_budget_no_t = pd.concat([df_merged_budget_no_t, lin_comb_of_chosen_for_inc.rename('Tax_Combination')], axis=1)"
      ],
      "metadata": {
        "id": "z1JTtDU8Q83m"
      },
      "execution_count": 64,
      "outputs": []
    },
    {
      "cell_type": "code",
      "source": [
        "cor_with_inc_chosen_comb = df_merged_budget_no_t['Tax_Combination'].corr(targets['Итоговые доходы на следующий год'])\n",
        "np.array(top_10_corrs_inc) < cor_with_inc_chosen_comb"
      ],
      "metadata": {
        "id": "ibiD1h6pSByS",
        "outputId": "5ef186a6-c147-459a-9a45-ec8a5e2b5482",
        "colab": {
          "base_uri": "https://localhost:8080/"
        }
      },
      "execution_count": 65,
      "outputs": [
        {
          "output_type": "execute_result",
          "data": {
            "text/plain": [
              "array([False, False, False, False, False, False,  True,  True,  True,\n",
              "        True])"
            ]
          },
          "metadata": {},
          "execution_count": 65
        }
      ]
    },
    {
      "cell_type": "markdown",
      "source": [
        "Хорошо, опять получился параметр не так сильно скоррелированный с целевой переменной, как топ-2. Однако их корреляции не так сильно различаются, поэтому возьмем его"
      ],
      "metadata": {
        "id": "C_hoGjG3Tlpi"
      }
    },
    {
      "cell_type": "markdown",
      "source": [
        "<font color=\"violet\"> Тут надо написать параметры, которые ты выбрал </font>\n",
        "\n",
        "Итак, параметры, которые я взял, как **наиболее скоррелированные с доходом**:\n",
        "\n",
        "\n",
        "*   Государственная пошлина (df_merged_budget_no_t[top_10_cols_inc[0]])\n",
        "*   Линейная комбинация из(df_merged_budget_no_t['Tax_Combination']):\n",
        "\n",
        "    1.  Налог, взимаемый с налогоплательщиков, выбравших в качестве объекта налогообложения доходы, уменьшенные на величину расходов\n",
        "    2.  Налог на имущество организаций по имуществу, входящему в Единую систему газоснабжения\n",
        "\n",
        "\n",
        "*   Коммунальное хозяйство (df_merged_budget_no_t[top_10_cols_inc[2]])\n",
        "\n",
        "Параметры, которые я взял, как **наиболее скоррелированные с расходом**:\n",
        "\n",
        "*  Линейная комбинация из государственной пошлины и коммунального хозяйства(df_merged_budget_no_t['StateDuty_Utilities_Combination'])\n",
        "*  Акцизы на пиво, производимое на территории Российской Федерации(df_merged_budget_no_t[top_15_cols_exp[3]])\n",
        "*  Линейная комбинация с весами 0.6, 0.3 и 0.1 (df_merged_budget_no_t['Resources_Transport_Education_Combination']) из:\n",
        "\n",
        "  1.   ПЛАТЕЖИ ПРИ ПОЛЬЗОВАНИИ ПРИРОДНЫМИ РЕСУРСАМИ\n",
        "  2.   Транспортный налог с физических лиц\n",
        "  3.   Другие вопросы в области образования\n",
        "\n",
        "\n",
        "\n",
        "\n"
      ],
      "metadata": {
        "id": "U9tu8_P4al8x"
      }
    },
    {
      "cell_type": "markdown",
      "source": [
        "# 3. Графики (1 балл)\n",
        "\n",
        "Построй графики с выбранными параметрами и бюджетом Карелии. Что ты на них видишь?"
      ],
      "metadata": {
        "id": "ccNrB5AFaubi"
      }
    },
    {
      "cell_type": "code",
      "source": [
        "df_with_exp = pd.concat([df_merged_budget_no_t['StateDuty_Utilities_Combination'], df_merged_budget_no_t[top_15_cols_exp[3]], df_merged_budget_no_t['Resources_Transport_Education_Combination']], axis=1)\n",
        "df_with_inc = pd.concat([df_merged_budget_no_t[top_10_cols_inc[0]], df_merged_budget_no_t['Tax_Combination'], df_merged_budget_no_t[top_10_cols_inc[2]]], axis=1)"
      ],
      "metadata": {
        "id": "GRsJcWUXVQH8"
      },
      "execution_count": 66,
      "outputs": []
    },
    {
      "cell_type": "code",
      "source": [
        "plt.figure(figsize = (10,6))\n",
        "for i in range(0, 3):\n",
        "    plt.plot(df_merged_budget_no_t.index, np.log(df_with_exp.iloc[:, i]), linestyle='-', label=f'{i+1}-й выбранный параметр в расходах')\n",
        "\n",
        "plt.plot(targets.index, np.log(targets['Итоговые расходы на следующий год']), label = 'Итоговые расходы на следующий год')\n",
        "\n",
        "plt.title('Графики зависимости параметров расходов от года')\n",
        "plt.xlabel('Год')\n",
        "plt.ylabel('Значения признаков и расходов на следующий год(логарифмы)')\n",
        "\n",
        "plt.legend()\n",
        "plt.grid()\n",
        "plt.tight_layout()\n",
        "plt.show()"
      ],
      "metadata": {
        "id": "fxqPbdVga8fi",
        "outputId": "ce591caf-7ee4-4b16-e6cb-c2e1bbafaab3",
        "colab": {
          "base_uri": "https://localhost:8080/",
          "height": 607
        }
      },
      "execution_count": 67,
      "outputs": [
        {
          "output_type": "display_data",
          "data": {
            "text/plain": [
              "<Figure size 1000x600 with 1 Axes>"
            ],
            "image/png": "[encoded data removed]"
          },
          "metadata": {}
        }
      ]
    },
    {
      "cell_type": "code",
      "source": [
        "plt.figure(figsize = (10,6))\n",
        "for i in range(0, 3):\n",
        "    plt.plot(df_merged_budget_no_t.index, np.log(df_with_inc.iloc[:, i]), linestyle='-', label=f'{i+1}-й выбранный параметр в доходах')\n",
        "\n",
        "plt.plot(targets.index, np.log(targets['Итоговые доходы на следующий год']), label = 'Итоговые доходы на следующий год')\n",
        "\n",
        "plt.title('Графики зависимости параметров дохода от года')\n",
        "plt.xlabel('Год')\n",
        "plt.ylabel('Значения признаков и доходов на следующий год(логарифмы)')\n",
        "\n",
        "plt.legend()\n",
        "plt.grid()\n",
        "plt.tight_layout()\n",
        "plt.show()"
      ],
      "metadata": {
        "id": "5wDPFRvrYY7S",
        "outputId": "9c7e235a-2f24-426b-a415-e41df6333ff1",
        "colab": {
          "base_uri": "https://localhost:8080/",
          "height": 607
        }
      },
      "execution_count": 68,
      "outputs": [
        {
          "output_type": "display_data",
          "data": {
            "text/plain": [
              "<Figure size 1000x600 with 1 Axes>"
            ],
            "image/png": "[encoded data removed]"
          },
          "metadata": {}
        }
      ]
    },
    {
      "cell_type": "markdown",
      "source": [
        "Как можно видеть на этих графиках, поскольку мы выбрали одни из наиболее скоррелированных с целевыми переменными параметры - то они повторяют практически все тенденции целевой переменной, что говорит о том, что мы все сделали правильно. Логарифмическая шкала позволяет поставить графики поближе друг к другу, чтобы разница значений не влияла на то, как мы воспринимаем график\n"
      ],
      "metadata": {
        "id": "ptrQ93VCYszv"
      }
    },
    {
      "cell_type": "markdown",
      "source": [
        "## 4. Анализ параметров (2 балла)\n",
        "\n",
        "На основе графиков и самих параметров, расскажи:\n",
        "\n",
        "- Построй гипотезы, наблюдаешь ли ты казуацию или здесь просто совпадение?\n",
        "- Предложи гипотезы, как проверить, нет ли ошибок в твоих выводах\n",
        "- Проанализируй взаимосвязь с параметрами между собой. Являются ли они сильноскореллированными? Имеет ли смысл использовать их всех вместе или достаточно одного?"
      ],
      "metadata": {
        "id": "ZyX7GlL6a2K9"
      }
    },
    {
      "cell_type": "markdown",
      "source": [
        "Думаю, что все-таки здесь можно наблюдать причинно-следственную связь. Проанализируем доходы:\n",
        "1. Растет гос.пошлина - это скорее всего значит, что стало больше оказываться юридических услуг или стало больше регистрироваться бизнесов в этом году, что говорит о росте деловой активности. Следовательно, больше доходы, больше продажи, что в будущем приведет к повышению налоговых поступлений и доходов бюджета.\n",
        "2. Скорре всего, раз этот параметр растет, то растет и прибыль предприятий, а это значит, что они развиваются и в экономике все хорошо и эти фирмы будут зарабатывать еще больше в следующем периоде, а значит, доходы государства будут расти за счет роста экономики.\n",
        "3. Как я понял, это доходы от предоставления коммунальных услуг. И опять же, логично, что если эти доходы растут - то скорее всего, больше строится домов, люди заселяют больше квартир, а значит, раз больше квартир строится - то, во-первых, у людей доходы растут(ведь им надо покупать квартиры), следовательно, экономика растет, а во-вторых, раз больше квартир будут заселены - больше коммунальных услуг будет оплачено. А потому доходы возрастут.\n",
        "\n",
        "Теперь проанализируем расходы:\n",
        "Для начала стоит предположить, почему параметры доходов так сильно скоррелированны с расходами на следующий год. Поскольку государство постоянно планирует какие-то проекты, планируемые расходы на них будут стимулировать увеличение доходов сейчас. Например, если государство планирует крупные проекты в образовании, оно может повысить налоги, чтобы заработать излишек на них. Ну и понятно, что скорее всего так будет работать с расходами практически во всех сферах. К примеру, если государство хочет увеличить субсидии в будущем - то сейчас оно скорее всего соберет побольше налогов и т.д.\n",
        "\n",
        "Анализируем параметры:\n",
        "\n",
        "1. Высокие доходы от госпошлин и коммунальных платежей позволяют, как мы говорили, больше расходовать на инфраструктуру или различные социальные проекты в будущем. Можно установить и обратную связь - допустим, сейчас увеличились расходы на коммунальное хозяйство (например, ремонт дорог) стимулирует экономическую активность, ну и следователно, рост госпошлин(говорили), а рост гос.пошлин ведет к росту расходов в будущем.\n",
        "\n",
        "2. Рост доходов от акцизов на пиво может быть связан с увеличением потребления пива, а поскольку государство стремится заботиться о гражданах, то оно будет тратить больше на здравоохранение (борьба с алкоголизмом)\n",
        "\n",
        "3.\n",
        "\n",
        "  *   Рост платежей за ресурсы - следовательно, увеличение расходов на экологические программы.\n",
        "  *   Рост налога - следовательно, увеличение числа автомобилей, увеличение доходов от налогов - следовательно, растут планируемые расходы на дорожную инфраструктуру(например, постройку дорог).\n",
        "---\n",
        "Гипотезы могут не работать, если, например, есть 3-я переменная, которая влияет на рост обеих переменных одновременно.\n",
        "\n",
        "К примеру, вот мы видим, что акцизы на пиво коррелируют с расходами на следующий год. 3-й переменной может быть инфляция - она может одновременно увеличивать и акцизы (так как цены растут), и расходы бюджета (из-за роста стоимости услуг).\n",
        "\n",
        "Плюс, гипотезы могут не работать, потому что у нас достаточно мало данных - они были собраны всего лишь за 10 лет и на большем временном диапазоне все может поменяться.\n",
        "\n",
        "Ну и к тому же, могут быть, как я описал, могут быть обратные связи, и поэтому предположенные гипотезы могут быть не верны.\n"
      ],
      "metadata": {
        "id": "DBsHSPw8aNUM"
      }
    },
    {
      "cell_type": "code",
      "source": [
        "df_with_exp.columns = ['StateDuty_Utilities_Combination', 'Beer_accise', 'Resources_Transport_Education_Combination']\n",
        "\n",
        "corr_matrix = df_with_exp.corr()\n",
        "\n",
        "plt.figure(figsize=(10, 6))\n",
        "sns.heatmap(corr_matrix, annot=True)\n",
        "plt.title('Корреляционная матрица для параметров расходов')\n",
        "plt.yticks(rotation=45)\n",
        "plt.tight_layout()\n",
        "plt.show()"
      ],
      "metadata": {
        "id": "zBQi5TI6bOYh",
        "outputId": "d9b36fe5-846e-4502-f0b2-c1f72bc3cdbc",
        "colab": {
          "base_uri": "https://localhost:8080/",
          "height": 599
        }
      },
      "execution_count": 69,
      "outputs": [
        {
          "output_type": "display_data",
          "data": {
            "text/plain": [
              "<Figure size 1000x600 with 2 Axes>"
            ],
            "image/png": "[encoded data removed]"
          },
          "metadata": {}
        }
      ]
    },
    {
      "cell_type": "code",
      "source": [
        "df_with_inc.columns = ['State_Duty', 'Tax_Combination', 'Utilities']\n",
        "\n",
        "corr_matrix = df_with_inc.corr()\n",
        "\n",
        "plt.figure(figsize=(10, 6))\n",
        "sns.heatmap(corr_matrix, annot=True)\n",
        "plt.title('Корреляционная матрица для параметров доходов')\n",
        "plt.tight_layout()\n",
        "plt.show()"
      ],
      "metadata": {
        "id": "wY8K4vUVj3kG",
        "outputId": "61a2c183-b291-4866-a66d-2fddb5905050",
        "colab": {
          "base_uri": "https://localhost:8080/",
          "height": 607
        }
      },
      "execution_count": 70,
      "outputs": [
        {
          "output_type": "display_data",
          "data": {
            "text/plain": [
              "<Figure size 1000x600 with 2 Axes>"
            ],
            "image/png": "[encoded data removed]"
          },
          "metadata": {}
        }
      ]
    },
    {
      "cell_type": "markdown",
      "source": [
        "Не нужно использовать одновременно все параметры, потому что они достаточно сильно скоррелированны между собой (как бы я ни старался решить эту проблему пунктом выше), а значит, их одновременное использование не будет привносить новой информации для анализа и только лишь усложнит его. К тому же, если мы будем обучать линейную модельку, то это приведет к ее переобучению(можно показать через простой примерой, когда параметры линейно зависимы и из-за этого у модели есть просто бесконечно много решений, дающих минимальную ошибку(это без регуляризации)), к тому же, модель не сможет определить, какой из параметров явно влияет на целевую переменную, поскольку рост одного приводит к росту другого - и из-за этого сложно расставить веса"
      ],
      "metadata": {
        "id": "VtFHeJUelfAF"
      }
    },
    {
      "cell_type": "markdown",
      "source": [
        "## 5. Линейная модель - BONUS TASK! - 2 балла.\n",
        "\n",
        "Бонусное задание - попробуй построить линейную модель бюджета на основе выбранных параметров выше и (возможно) других параметров из датасета. Как думаешь, она состоятельная? Как бы ты проверял эту модель на корректность?"
      ],
      "metadata": {
        "id": "rHFsxiWDcThK"
      }
    },
    {
      "cell_type": "markdown",
      "source": [
        "Из-за проблемы с скоррелированностью параметров, мы возьмем только по-одному для расходов и для доходов из тех, которые я уже нашел. Ну и добавим еще каких-то других параметров. И на самом деле, не очень брать параметры, которые очень скоррелированны с целевой переменной, потому что модель по сути будет подстраиваться только под них, заучивать зависимости, что может плохо потом сказаться на ней, если эти зависимости станут слабее или если это проблема в данных(но скорее всего нет 😀). В нашем случае это конечно поможет предсказывать бюджет\n"
      ],
      "metadata": {
        "id": "eMVZA4_EJnCK"
      }
    },
    {
      "cell_type": "code",
      "source": [
        "top_20_exp = df_of_tops_exp.nlargest(20, 'Corr')\n",
        "top_20_cols_exp = top_20_exp['Col'].tolist()\n",
        "top_20_corrs_exp = top_20_exp['Corr'].tolist()\n",
        "Params_to_choose_exp = pd.concat([df_merged_budget_no_t['StateDuty_Utilities_Combination'], df_merged_budget_no_t[top_20_cols_exp[14]], df_merged_budget_no_t[top_20_cols_exp[12]]], axis=1)\n",
        "top_20_cols_exp[14]"
      ],
      "metadata": {
        "id": "NBkL1-IlPvwN",
        "outputId": "a382c056-f737-45d7-c9f0-840a3c48d73c",
        "colab": {
          "base_uri": "https://localhost:8080/",
          "height": 36
        }
      },
      "execution_count": 71,
      "outputs": [
        {
          "output_type": "execute_result",
          "data": {
            "text/plain": [
              "'Другие вопросы в области образования'"
            ],
            "application/vnd.google.colaboratory.intrinsic+json": {
              "type": "string"
            }
          },
          "metadata": {},
          "execution_count": 71
        }
      ]
    },
    {
      "cell_type": "code",
      "source": [
        "#Найдем еще несколько параметров, которые применим для обучения в линейной модели\n",
        "top_15_inc = df_of_tops_inc.nlargest(15, 'Corr')\n",
        "top_15_cols_inc = top_15_inc['Col'].tolist()\n",
        "top_15_corrs_inc = top_15_inc['Corr'].tolist()\n",
        "top_15_cols_inc[0:15]\n",
        "Params_to_choose_inc = pd.concat([df_merged_budget_no_t['Tax_Combination'], df_merged_budget_no_t[top_15_cols_inc[9]], df_merged_budget_no_t[top_15_cols_inc[14]]], axis=1)"
      ],
      "metadata": {
        "id": "LQ0Iza7ILt5m"
      },
      "execution_count": 72,
      "outputs": []
    },
    {
      "cell_type": "code",
      "source": [
        "from sklearn.model_selection import train_test_split\n",
        "from sklearn.linear_model import LinearRegression\n",
        "from sklearn.metrics import mean_squared_error,r2_score\n",
        "\n",
        "X = Params_to_choose_exp\n",
        "y = targets['Итоговые расходы на следующий год']\n",
        "\n",
        "X_train, X_test, y_train, y_test = train_test_split(X, y, test_size=0.2, random_state=52)\n",
        "\n",
        "#отнормируем все данные, чтобы веса подбирались нормально\n",
        "\n",
        "def standart_scaling(data):\n",
        "    mean_in_col = np.mean(data, axis=0)\n",
        "    std_in_col = np.std(data, axis=0)\n",
        "    scaled_data = (data - mean_in_col) / std_in_col\n",
        "    return scaled_data, mean_in_col, std_in_col #возвращаем все, потмоу что не можем нормировать тестовые данные через функцию, поскольку модель ничего не должна знать о тесте\n",
        "\n",
        "X_train_scaled, mean_train, std_train = standart_scaling(X_train)\n",
        "\n",
        "X_test_scaled = (X_test - mean_train) / std_train\n",
        "\n",
        "model = LinearRegression()\n",
        "model.fit(X_train_scaled, y_train)\n",
        "\n",
        "y_pred = model.predict(X_test_scaled)\n",
        "\n",
        "r2 = r2_score(y_test, y_pred)\n",
        "\n",
        "print(f\"R^2 Score: {r2:.2f}\")"
      ],
      "metadata": {
        "id": "laWqRAHqcv2S",
        "outputId": "0ca51aed-6d1e-452c-c2f2-0f2b171a557f",
        "colab": {
          "base_uri": "https://localhost:8080/"
        }
      },
      "execution_count": 73,
      "outputs": [
        {
          "output_type": "stream",
          "name": "stdout",
          "text": [
            "R^2 Score: 0.82\n"
          ]
        }
      ]
    },
    {
      "cell_type": "code",
      "source": [
        "X = Params_to_choose_inc\n",
        "y = targets['Итоговые доходы на следующий год']\n",
        "\n",
        "X_train, X_test, y_train, y_test = train_test_split(X, y, test_size=0.2, random_state=52)\n",
        "\n",
        "X_train_scaled, mean_train, std_train = standart_scaling(X_train)\n",
        "\n",
        "X_test_scaled = (X_test - mean_train) / std_train\n",
        "\n",
        "model = LinearRegression()\n",
        "model.fit(X_train_scaled, y_train)\n",
        "\n",
        "y_pred = model.predict(X_test_scaled)\n",
        "\n",
        "r2 = r2_score(y_test, y_pred)\n",
        "\n",
        "print(f\"R^2 Score: {r2:.2f}\")"
      ],
      "metadata": {
        "id": "Ji9Imku1W0d5",
        "outputId": "dae93fa3-7260-46b6-96ea-e1b8a529acd8",
        "colab": {
          "base_uri": "https://localhost:8080/"
        }
      },
      "execution_count": 74,
      "outputs": [
        {
          "output_type": "stream",
          "name": "stdout",
          "text": [
            "R^2 Score: 0.38\n"
          ]
        }
      ]
    },
    {
      "cell_type": "markdown",
      "source": [
        "Ну, по крайней мере модели уже работают лучше, чем константные предсказания. К тому же, модель по предсказыванию доходов вообще показывает очень высокий R^2 Score, что говорит о том, что она довольно состоятельно. Опять же, конечно, не так много данных, но работает она на наших хорошо"
      ],
      "metadata": {
        "id": "-8nhkDHcXqeL"
      }
    }
  ]
}