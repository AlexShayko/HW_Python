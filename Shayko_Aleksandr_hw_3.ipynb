{
  "nbformat": 4,
  "nbformat_minor": 0,
  "metadata": {
    "colab": {
      "provenance": []
    },
    "kernelspec": {
      "name": "python3",
      "display_name": "Python 3"
    },
    "language_info": {
      "name": "python"
    }
  },
  "cells": [
    {
      "cell_type": "code",
      "execution_count": 271,
      "metadata": {
        "id": "iRTwr-O53qdQ"
      },
      "outputs": [],
      "source": [
        "from abc import ABC, abstractmethod\n",
        "import random\n",
        "class Machine(ABC):\n",
        "  '''\n",
        "  Этот класс является абстрактным. В нем описываются все методы и атрибуты,\n",
        "  которые будут характерны машинам\n",
        "  '''\n",
        "  def __init__(self, position: bool, way: list[list[tuple[int, int, int]]]):\n",
        "    self.position = position #на парковке(False) или в штольне(True)\n",
        "    self.way = way #путь(список) состоит из тоннелей(списки). У тоннеля есть координаты начала и конца(2 кортежа)\n",
        "    self.coordinates: list = [0, 0, 0]\n",
        "\n",
        "  def unpdate_coordinates(self): #машина отправляет данные о своем местоположении сейчас\n",
        "    pass\n",
        "\n",
        "  def get_coordinates(self):\n",
        "    self.update_coordinates()\n",
        "    return self.coordinates\n",
        "\n",
        "  @abstractmethod\n",
        "  def get_state(self):\n",
        "    pass\n",
        "\n",
        "class Drilling_machine(Machine):\n",
        "  number_of_drilling_machines = 0\n",
        "\n",
        "  def __init__(self, position: bool, way: list[list[tuple[int, int, int]]]):\n",
        "      super().__init__(position, way)\n",
        "      Drilling_machine.number_of_drilling_machines += 1\n",
        "      self.machine_number = f\"drl#{Drilling_machine.number_of_drilling_machines}\"\n",
        "      self.count_of_get_state_use = 0\n",
        "\n",
        "  def get_state(self):\n",
        "    if self.count_of_get_state_use == 0:\n",
        "      self.state = random.choice([\"рабочая\", \"не рабочая\"])\n",
        "      self.count_of_get_state_use += 1\n",
        "      return self.state\n",
        "    else:\n",
        "      return self.state\n",
        "\n",
        "  def drill(self):\n",
        "    if tuple(self.get_coordinates()) == self.way[len(self.way) - 1][1]:\n",
        "      print(\"I started drilling\")\n",
        "\n",
        "class Mapping_machine(Machine):\n",
        "\n",
        "  number_of_mapping_machines = 0\n",
        "\n",
        "  def __init__(self, position: bool, way: list[list[tuple[int, int, int]]], type_of_mapper: int):\n",
        "    super().__init__(position, way)\n",
        "    if type_of_mapper == 1 or type_of_mapper == 2:\n",
        "      self.type_of_mapper = type_of_mapper\n",
        "    else:\n",
        "      print(\"We don't have such mappers\")\n",
        "    Mapping_machine.number_of_mapping_machines += 1\n",
        "    self.machine_number = f\"mp#{Mapping_machine.number_of_mapping_machines}\"\n",
        "    self.MAX_CURRENT_MAPS = 100 * self.type_of_mapper\n",
        "    self.number_of_current_maps = 0\n",
        "    self.storage_of_maps = []\n",
        "    self.count_of_get_state_use = 0\n",
        "\n",
        "  def get_state(self):\n",
        "    if self.count_of_get_state_use == 0:\n",
        "      self.state = random.choice([\"рабочая\", \"не рабочая\"])\n",
        "      self.count_of_get_state_use += 1\n",
        "      return self.state\n",
        "    else:\n",
        "      return self.state\n",
        "\n",
        "  def make_map(self):\n",
        "    if self.number_of_current_maps < self.MAX_CURRENT_MAPS:\n",
        "      self.number_of_current_maps += 1\n",
        "      self.storage_of_maps.append(f'map #{self.number_of_current_maps}')\n",
        "      print(\"The 3-D model of current area is saved\")\n",
        "    else:\n",
        "      print(\"It's time to send maps\")\n",
        "\n",
        "  def send_visualizations(self):\n",
        "    print(f\"{self.number_of_current_maps} maps were sent to the server\")\n",
        "    self.number_of_current_maps = 0\n",
        "    self.storage_of_maps = []\n",
        "\n",
        "class Inspection_machine(Machine):\n",
        "  number_of_inspection_machines = 0\n",
        "\n",
        "  def __init__(self, position: bool, way: list[list[tuple[int, int, int]]]):\n",
        "      super().__init__(position, way)\n",
        "      Inspection_machine.number_of_inspection_machines += 1\n",
        "      self.machine_number = f\"ins#{Inspection_machine.number_of_inspection_machines}\"\n",
        "      self.number_of_damages_evaluated = 0\n",
        "      self.storage_of_damages = []\n",
        "      self.count_of_get_state_use = 0\n",
        "\n",
        "  def get_state(self):\n",
        "    if self.count_of_get_state_use == 0:\n",
        "      self.state = random.choice([\"рабочая\", \"не рабочая\"])\n",
        "      self.count_of_get_state_use += 1\n",
        "      return self.state\n",
        "    else:\n",
        "      return self.state\n",
        "\n",
        "  def make_photo(self, type_of_support: str):\n",
        "    if type_of_support == \"трапецеидальная\" or type_of_support == \"арочная\":\n",
        "      return type_of_support\n",
        "\n",
        "  def evaluate_damage(self, type_of_support: str):\n",
        "    self.number_of_damages_evaluated += 1\n",
        "    if self.make_photo(type_of_support) == \"трапецеидальная\":\n",
        "      print(\"I used formula #1 for trap_support\")\n",
        "      self.storage_of_damages.append(f'res for трапецеидальная, damage #{self.number_of_damages_evaluated}')\n",
        "    elif self.make_photo(type_of_support) == \"арочная\":\n",
        "      print(\"I used formula #2 for trap_support\")\n",
        "      self.storage_of_damages.append(f'res for арочная, damage #{self.number_of_damages_evaluated}')\n",
        "\n",
        "  def send_damages(self):\n",
        "    print(f\"{self.number_of_damages_evaluated} evaluations were sent to the server\")\n",
        "    self.number_of_damages_evaluated = 0\n",
        "    self.storage_of_damages = []\n",
        "\n",
        "class Controller:\n",
        "  repair_list = []\n",
        "  def check_machine(self, machine: Machine):\n",
        "          if machine.get_state() == \"рабочая\":\n",
        "            print(f\"Машина {machine.machine_number} готова работать\")\n",
        "          else:\n",
        "              self.repair_list.append(machine)\n",
        "              machine.position = False\n",
        "              print(f\"{machine.machine_number} отправлена на ремонт\")\n",
        "  def repair_machines(self):\n",
        "      for machine in self.repair_list:\n",
        "          print(f\"{machine.machine_number} отремонтирована\")\n",
        "          machine.state = 'рабочая'\n",
        "          machine.position = True\n",
        "      self.repair_list.clear()"
      ]
    },
    {
      "cell_type": "code",
      "source": [
        "route1 = [\n",
        "    [(0, 0, 0), (20, 0, 0)],\n",
        "    [(20, 0, 0), (20, 10, 0)],\n",
        "    [(20, 10, 0), (20, 10, -15)]\n",
        "]\n",
        "\n",
        "route2 = [\n",
        "    [(0, 0, 0), (25, 0, 0)],\n",
        "    [(25, 0, 0), (25, -8, 0)],\n",
        "    [(25, -8, 0), (25, -8, -20)]\n",
        "]\n",
        "\n",
        "route3 = [\n",
        "    [(0, 0, 0), (15, 0, 0)],\n",
        "    [(15, 0, 0), (15, 0, -25)],\n",
        "    [(15, 0, -25), (15, -12, -25)]\n",
        "]\n",
        "\n",
        "route4 = [\n",
        "    [(0, 0, 0), (30, 0, 0)],\n",
        "    [(30, 0, 0), (30, 15, 0)],\n",
        "    [(30, 15, 0), (30, 15, -30)]\n",
        "]"
      ],
      "metadata": {
        "id": "B2UfNMFAcbyn"
      },
      "execution_count": 272,
      "outputs": []
    },
    {
      "cell_type": "code",
      "source": [
        "drill = Drilling_machine(True, route1)\n",
        "drill.machine_number\n",
        "controler = Controller()\n",
        "controler.check_machine(drill)\n",
        "controler.repair_machines()"
      ],
      "metadata": {
        "colab": {
          "base_uri": "https://localhost:8080/"
        },
        "id": "TyXp22O3BkV5",
        "outputId": "99a0433f-5bc5-4f5e-edd6-5c0217fce374"
      },
      "execution_count": 273,
      "outputs": [
        {
          "output_type": "stream",
          "name": "stdout",
          "text": [
            "drl#1 отправлена на ремонт\n",
            "drl#1 отремонтирована\n"
          ]
        }
      ]
    },
    {
      "cell_type": "code",
      "source": [
        "map_mach = Mapping_machine(True, route2, type_of_mapper = 1)\n",
        "controler.check_machine(map_mach)\n",
        "controler.repair_machines()"
      ],
      "metadata": {
        "colab": {
          "base_uri": "https://localhost:8080/"
        },
        "id": "sV4d0xvJiY10",
        "outputId": "f27e2db9-5842-4b58-9d5f-46cdb0717993"
      },
      "execution_count": 274,
      "outputs": [
        {
          "output_type": "stream",
          "name": "stdout",
          "text": [
            "mp#1 отправлена на ремонт\n",
            "mp#1 отремонтирована\n"
          ]
        }
      ]
    },
    {
      "cell_type": "code",
      "source": [
        "map_mach.make_map()\n",
        "map_mach.make_map()"
      ],
      "metadata": {
        "colab": {
          "base_uri": "https://localhost:8080/"
        },
        "id": "STPT0vDaigNo",
        "outputId": "41b51428-bc93-4fa2-caca-7f4b181c22e6"
      },
      "execution_count": 275,
      "outputs": [
        {
          "output_type": "stream",
          "name": "stdout",
          "text": [
            "The 3-D model of current area is saved\n",
            "The 3-D model of current area is saved\n"
          ]
        }
      ]
    },
    {
      "cell_type": "code",
      "source": [
        "map_mach.storage_of_maps"
      ],
      "metadata": {
        "colab": {
          "base_uri": "https://localhost:8080/"
        },
        "id": "zii_hQTHjD4p",
        "outputId": "9cee4e3d-44be-4d08-a29c-dc34ae46b107"
      },
      "execution_count": 276,
      "outputs": [
        {
          "output_type": "execute_result",
          "data": {
            "text/plain": [
              "['map #1', 'map #2']"
            ]
          },
          "metadata": {},
          "execution_count": 276
        }
      ]
    },
    {
      "cell_type": "code",
      "source": [
        "map_mach1 = Mapping_machine(True, route3, type_of_mapper = 2)\n",
        "controler.check_machine(map_mach)\n",
        "controler.repair_machines()"
      ],
      "metadata": {
        "colab": {
          "base_uri": "https://localhost:8080/"
        },
        "id": "QdVBwd_Aj-qv",
        "outputId": "9c4c7037-5368-4057-8596-11aea337e67c"
      },
      "execution_count": 277,
      "outputs": [
        {
          "output_type": "stream",
          "name": "stdout",
          "text": [
            "Машина mp#1 готова работать\n"
          ]
        }
      ]
    },
    {
      "cell_type": "code",
      "source": [
        "map_mach1.make_map()\n",
        "map_mach1.make_map()\n",
        "map_mach1.make_map()\n",
        "map_mach1.storage_of_maps"
      ],
      "metadata": {
        "colab": {
          "base_uri": "https://localhost:8080/"
        },
        "id": "Gi_xEleBj__z",
        "outputId": "46817754-8c9b-4ec1-f5b3-cb862207a817"
      },
      "execution_count": 278,
      "outputs": [
        {
          "output_type": "stream",
          "name": "stdout",
          "text": [
            "The 3-D model of current area is saved\n",
            "The 3-D model of current area is saved\n",
            "The 3-D model of current area is saved\n"
          ]
        },
        {
          "output_type": "execute_result",
          "data": {
            "text/plain": [
              "['map #1', 'map #2', 'map #3']"
            ]
          },
          "metadata": {},
          "execution_count": 278
        }
      ]
    },
    {
      "cell_type": "code",
      "source": [
        "map_mach.send_visualizations()"
      ],
      "metadata": {
        "colab": {
          "base_uri": "https://localhost:8080/"
        },
        "id": "scE5KkU1nMti",
        "outputId": "fc2a78ab-5596-4953-ce42-b42a4cccff74"
      },
      "execution_count": 279,
      "outputs": [
        {
          "output_type": "stream",
          "name": "stdout",
          "text": [
            "2 maps were sent to the server\n"
          ]
        }
      ]
    },
    {
      "cell_type": "code",
      "source": [
        "map_mach1.send_visualizations()"
      ],
      "metadata": {
        "colab": {
          "base_uri": "https://localhost:8080/"
        },
        "id": "FITYA-uAnQzQ",
        "outputId": "e2486a5f-422b-4e14-918c-79bcc9e9a3ef"
      },
      "execution_count": 280,
      "outputs": [
        {
          "output_type": "stream",
          "name": "stdout",
          "text": [
            "3 maps were sent to the server\n"
          ]
        }
      ]
    },
    {
      "cell_type": "code",
      "source": [
        "insp_mach = Inspection_machine(True, route4)\n",
        "controler.check_machine(insp_mach)\n",
        "controler.repair_machines()"
      ],
      "metadata": {
        "colab": {
          "base_uri": "https://localhost:8080/"
        },
        "id": "m6Tl_6IIoNd6",
        "outputId": "bdf548bc-20b2-4eb6-db66-5dd035af2185"
      },
      "execution_count": 281,
      "outputs": [
        {
          "output_type": "stream",
          "name": "stdout",
          "text": [
            "Машина ins#1 готова работать\n"
          ]
        }
      ]
    },
    {
      "cell_type": "code",
      "source": [
        "insp_mach.evaluate_damage(\"трапецеидальная\")"
      ],
      "metadata": {
        "colab": {
          "base_uri": "https://localhost:8080/"
        },
        "id": "YHMkh9LepLs6",
        "outputId": "717a556f-03c2-410d-a55f-a8c922f1d4d6"
      },
      "execution_count": 282,
      "outputs": [
        {
          "output_type": "stream",
          "name": "stdout",
          "text": [
            "I used formula #1 for trap_support\n"
          ]
        }
      ]
    },
    {
      "cell_type": "code",
      "source": [
        "insp_mach.evaluate_damage(\"арочная\")"
      ],
      "metadata": {
        "colab": {
          "base_uri": "https://localhost:8080/"
        },
        "id": "7rfhdBmvpQtO",
        "outputId": "4c741a71-c4f1-4450-8c9c-0cba65bf843f"
      },
      "execution_count": 283,
      "outputs": [
        {
          "output_type": "stream",
          "name": "stdout",
          "text": [
            "I used formula #2 for trap_support\n"
          ]
        }
      ]
    },
    {
      "cell_type": "code",
      "source": [
        "insp_mach.storage_of_damages"
      ],
      "metadata": {
        "colab": {
          "base_uri": "https://localhost:8080/"
        },
        "id": "qzTOFpuEqMwF",
        "outputId": "8ea82c1a-fc92-4866-9d87-2617126e3393"
      },
      "execution_count": 284,
      "outputs": [
        {
          "output_type": "execute_result",
          "data": {
            "text/plain": [
              "['res for трапецеидальная, damage #1', 'res for арочная, damage #2']"
            ]
          },
          "metadata": {},
          "execution_count": 284
        }
      ]
    },
    {
      "cell_type": "code",
      "source": [
        "insp_mach.send_damages()"
      ],
      "metadata": {
        "colab": {
          "base_uri": "https://localhost:8080/"
        },
        "id": "g6cNw7OSqrSs",
        "outputId": "326bae20-0d37-4412-b664-13bfcd5b76f2"
      },
      "execution_count": 285,
      "outputs": [
        {
          "output_type": "stream",
          "name": "stdout",
          "text": [
            "2 evaluations were sent to the server\n"
          ]
        }
      ]
    },
    {
      "cell_type": "code",
      "source": [
        "insp_mach.evaluate_damage(\"арочная\")\n",
        "insp_mach.evaluate_damage(\"арочная\")\n",
        "insp_mach.storage_of_damages"
      ],
      "metadata": {
        "colab": {
          "base_uri": "https://localhost:8080/"
        },
        "id": "2M1wsMw4qzB8",
        "outputId": "05756686-764e-4180-a2e4-8d2a13e48758"
      },
      "execution_count": 269,
      "outputs": [
        {
          "output_type": "stream",
          "name": "stdout",
          "text": [
            "I used formula #2 for trap_support\n",
            "I used formula #2 for trap_support\n"
          ]
        },
        {
          "output_type": "execute_result",
          "data": {
            "text/plain": [
              "['res for арочная, damage #1', 'res for арочная, damage #2']"
            ]
          },
          "metadata": {},
          "execution_count": 269
        }
      ]
    },
    {
      "cell_type": "code",
      "source": [
        "insp_mach1 = Inspection_machine(True, route2)\n",
        "controler.check_machine(insp_mach1)\n",
        "controler.repair_machines()\n",
        "insp_mach1.evaluate_damage(\"трапецеидальная\")\n",
        "insp_mach1.evaluate_damage(\"арочная\")\n",
        "insp_mach1.storage_of_damages"
      ],
      "metadata": {
        "colab": {
          "base_uri": "https://localhost:8080/"
        },
        "id": "IDVIwH2_rAxh",
        "outputId": "15fa9afd-1940-4809-9ef1-931a8e5a2e1b"
      },
      "execution_count": 270,
      "outputs": [
        {
          "output_type": "stream",
          "name": "stdout",
          "text": [
            "ins#2 отправлена на ремонт\n",
            "ins#2 отремонтирована\n",
            "I used formula #1 for trap_support\n",
            "I used formula #2 for trap_support\n"
          ]
        },
        {
          "output_type": "execute_result",
          "data": {
            "text/plain": [
              "['res for трапецеидальная, damage #1', 'res for арочная, damage #2']"
            ]
          },
          "metadata": {},
          "execution_count": 270
        }
      ]
    }
  ]
}