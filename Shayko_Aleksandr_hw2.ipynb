{
  "nbformat": 4,
  "nbformat_minor": 0,
  "metadata": {
    "colab": {
      "provenance": []
    },
    "kernelspec": {
      "name": "python3",
      "display_name": "Python 3"
    },
    "language_info": {
      "name": "python"
    }
  },
  "cells": [
    {
      "cell_type": "markdown",
      "source": [
        "## 1. Подсчет количества дней\n",
        "\n",
        "Создай целочисленные переменные, которые отвечают за:\n",
        "- количество дней для проращивания семян\n",
        "- количество дней для выращивания рассады\n",
        "- количество дней до плодоношения\n",
        "\n",
        "Сложи все три переменные. Выведи на экран результат - число дней от момента начала проращивания семян до момента, когда созреют помидоры."
      ],
      "metadata": {
        "id": "xPCW0t6jIduY"
      }
    },
    {
      "cell_type": "code",
      "execution_count": 2,
      "metadata": {
        "id": "O6sEcKdFIMZb",
        "outputId": "a5dd0276-ecb8-476a-89ee-eb5a3000e5e6",
        "colab": {
          "base_uri": "https://localhost:8080/"
        }
      },
      "outputs": [
        {
          "output_type": "stream",
          "name": "stdout",
          "text": [
            "Число дней от момента начала проращивания семян до момента, когда созреют помидоры = 35\n"
          ]
        }
      ],
      "source": [
        "# YOUR CODE HERE\n",
        "days_for_germ = 5\n",
        "days_for_growth = 10\n",
        "days_bef_bear = 20\n",
        "print(f\"Число дней от момента начала проращивания семян до момента, когда созреют помидоры = {days_for_germ + days_for_growth + days_bef_bear}\")"
      ]
    },
    {
      "cell_type": "markdown",
      "source": [
        "## 2. Сохранение данных о сорте.\n",
        "\n",
        "Продуктивность сорта считается по простой формуле - [количество кг, собранных со всех кустов] / [количество кустов]\n",
        "\n",
        "Считай с клавиатуры количество килограмм, собранных со всех кустов и количество кустов (целые числа). Подели и округли до 2 знаков после запятой, результат выведи на экран."
      ],
      "metadata": {
        "id": "ZmLLCikNIAdT"
      }
    },
    {
      "cell_type": "code",
      "execution_count": 6,
      "metadata": {
        "id": "IWNzBK6AIouo",
        "outputId": "ae5f2aae-f896-4302-8621-5daa9b11bf16",
        "colab": {
          "base_uri": "https://localhost:8080/"
        }
      },
      "outputs": [
        {
          "output_type": "stream",
          "name": "stdout",
          "text": [
            "25\n",
            "4\n",
            "Продуктивность сорта равна 6.25\n"
          ]
        }
      ],
      "source": [
        "# YOUR CODE HERE\n",
        "killos_collect, bush_quant  = int(input()), int(input())\n",
        "productiv = round(killos_collect/bush_quant, 2)\n",
        "print(f\"Продуктивность сорта равна {productiv}\")"
      ]
    },
    {
      "cell_type": "markdown",
      "source": [
        "## 3. Средняя сладость клубники.\n",
        "\n",
        "Ваша бабушка решила поспорить с соседкой, у кого клубника более сладкая. Они посадили кусты и потом оценили сладость клубники, собранной с каждого из кустов, по шкале от 0 до 10. Ваша задача - посчитать среднее для двух массивов и определить, у кого слаще клубника в среднем."
      ],
      "metadata": {
        "id": "O9dAr1NdJpyT"
      }
    },
    {
      "cell_type": "code",
      "execution_count": 9,
      "metadata": {
        "id": "oy8HPWpiIpOv",
        "outputId": "d8a3f80e-4bc4-495d-8801-b83ab1063fe0",
        "colab": {
          "base_uri": "https://localhost:8080/"
        }
      },
      "outputs": [
        {
          "output_type": "stream",
          "name": "stdout",
          "text": [
            "sugar_ma 7.333333333333333 5.25\n"
          ]
        }
      ],
      "source": [
        "grandma_strawberries = [5, 7, 10, 9, 3, 10]\n",
        "neighbour_strawberries = [10, 6, 2, 3]\n",
        "sum_gma = 0\n",
        "sum_nei = 0\n",
        "# YOUR CODE HERE\n",
        "for i in range(len(grandma_strawberries)):\n",
        "  sum_gma += grandma_strawberries[i]\n",
        "av_grandma_strawberries = sum_gma/len(grandma_strawberries)\n",
        "\n",
        "for i in range(len(neighbour_strawberries)):\n",
        "  sum_nei += neighbour_strawberries[i]\n",
        "av_neighbour_strawberries = sum_nei/len(neighbour_strawberries)\n",
        "\n",
        "if av_grandma_strawberries >= av_neighbour_strawberries:\n",
        "  print('sugar_gma')\n",
        "else:\n",
        "  print('sugar_neighbour')"
      ]
    },
    {
      "cell_type": "markdown",
      "source": [
        "## 4. Список растений на даче.\n",
        "\n",
        "У вас есть список растений на даче у бабушки. <font color=\"#8000FF\"> При помощи форматирования строк </font> выведите список растений **в алфавитном порядке** в виде:\n",
        "\n",
        "N. Название растения."
      ],
      "metadata": {
        "id": "EYjJBGLsRC4y"
      }
    },
    {
      "cell_type": "code",
      "execution_count": 10,
      "metadata": {
        "id": "z2_PuewtIpWs",
        "outputId": "328c2840-f3b0-4b73-ed28-03e4166a5bd8",
        "colab": {
          "base_uri": "https://localhost:8080/"
        }
      },
      "outputs": [
        {
          "output_type": "stream",
          "name": "stdout",
          "text": [
            "0.картошка\n",
            "1.клубника\n",
            "2.мальва\n",
            "3.огурцы\n",
            "4.подсолнухи\n",
            "5.томаты\n",
            "6.флоксы\n",
            "7.хосты\n"
          ]
        }
      ],
      "source": [
        "plants = [\"мальва\", \"клубника\", \"томаты\", \"огурцы\", \"флоксы\", \"картошка\", \"подсолнухи\", \"хосты\"]\n",
        "\n",
        "# YOUR CODE HERE\n",
        "plants.sort()\n",
        "for i in range(len(plants)):\n",
        "  print(f'{i}.{plants[i]}')"
      ]
    },
    {
      "cell_type": "markdown",
      "source": [
        "## 5. Погода на улице.\n",
        "\n",
        "Сейчас весна, у вашей бабушки уже высажена рассада перцев в парник. Однако она боится заморозков. Ваша задача - считать с клавиатуры значение температуры:\n",
        "\n",
        "Если t<5, надо вывести \"Пожалуйста, закрой полностью парник - на улице холодно\";\n",
        "\n",
        "Если t от 5 до 10, надо вывести \"Пожалуйста, прикрой парник - на улице прохладно\";\n",
        "\n",
        "Если t больше 10, надо вывести \"Пожалуйста, открой полностью парник - на улице тепло\"."
      ],
      "metadata": {
        "id": "amXMFPIxKq7s"
      }
    },
    {
      "cell_type": "code",
      "execution_count": 14,
      "metadata": {
        "id": "F9Xwk-ldIpeY",
        "outputId": "a4ef066e-c040-4f10-d50b-2e2110731c02",
        "colab": {
          "base_uri": "https://localhost:8080/"
        }
      },
      "outputs": [
        {
          "output_type": "stream",
          "name": "stdout",
          "text": [
            "15\n",
            "Пожалуйста, открой полностью парник - на улице тепло\n"
          ]
        }
      ],
      "source": [
        "# YOUR CODE HERE\n",
        "temp_out = float(input())\n",
        "if temp_out < 5:\n",
        "  print(\"Пожалуйста, закрой полностью парник - на улице холодно\")\n",
        "elif 5 <= temp_out <= 10:\n",
        "  print(\"Пожалуйста, прикрой парник - на улице прохладно\")\n",
        "else:\n",
        "  print(\"Пожалуйста, открой полностью парник - на улице тепло\")"
      ]
    },
    {
      "cell_type": "markdown",
      "source": [
        "## 6. Список любимых томатов.\n",
        "\n",
        "У вашей бабушки есть любимые сорта томатов, но не все из них она посадила в этом году. У вас есть словарь, где ключ - название сорта, а по значению лежит количество кустов, высаженных в этом году.\n",
        "\n",
        "Ваша задача - вывести список сортов, которые были высажены в этом году (если высажено 0 кустов, то этот сорт в этом году не сажался)."
      ],
      "metadata": {
        "id": "AoT449EwIoN0"
      }
    },
    {
      "cell_type": "code",
      "execution_count": 18,
      "metadata": {
        "id": "r61uXx7PIpkJ",
        "outputId": "44346e6e-cdb9-4720-dcc2-d00f701796d4",
        "colab": {
          "base_uri": "https://localhost:8080/"
        }
      },
      "outputs": [
        {
          "output_type": "stream",
          "name": "stdout",
          "text": [
            "Бычье сердце, Любаша, Космонавт Волков, Монеточка\n"
          ]
        }
      ],
      "source": [
        "tomatoes = {\"Бычье сердце\": 4, \"Любаша\": 1, \"Титаник\": 0, \"Космонавт Волков\": 7}\n",
        "tomatoes[\"Монеточка\"] = 5\n",
        "\n",
        "list_with_sorts = []\n",
        "# YOUR CODE HERE\n",
        "for key, value in tomatoes.items():\n",
        "  if value > 0:\n",
        "    list_with_sorts.append(key)\n",
        "print(*list_with_sorts, sep=', ')"
      ]
    },
    {
      "cell_type": "markdown",
      "source": [
        "## 7. Словари.\n",
        "\n",
        "Создайте словарь, где ключами будут числа от 0 до 20 включительно, а значения -\n",
        "1. -1, если значение ключа делится на 5\n",
        "2. 1 иначе\n",
        "\n",
        "\n",
        "<font color=\"#8000FF\"> Используйте comprehensions </font>"
      ],
      "metadata": {
        "id": "M7EBZSFGLiVy"
      }
    },
    {
      "cell_type": "code",
      "execution_count": 19,
      "metadata": {
        "id": "2JxdQGZJIppV"
      },
      "outputs": [],
      "source": [
        "my_dict = {x: -1 if x%5 == 0 else 1 for x in range(0, 21)}"
      ]
    },
    {
      "cell_type": "markdown",
      "source": [
        "## 8. Ох уж эти корейцы\n",
        "\n",
        "Вам дан список с возрастами людей в одной неизвестной корейской фирме. Вышел новый закон, который постановляет, что теперь возраст сотрудников считается не традиционным способом, а по факту рождения. Менеджер компании попросил вас перезаполнить базу данных, обновив возраст сотрудников по правилу:\n",
        "\n",
        "$age = (age + 1)$\n",
        "\n",
        " <font color=\"#8000FF\"> Используйте функцию `map`</font>"
      ],
      "metadata": {
        "id": "ZTrqV-ixUhcj"
      }
    },
    {
      "cell_type": "code",
      "source": [
        "import random\n",
        "ages = random.choices(list(range(20, 65)), k=100500)\n",
        "\n",
        "new_age = list(map(lambda x: x+1, ages))"
      ],
      "metadata": {
        "id": "60H4Zi4eMSQp"
      },
      "execution_count": 21,
      "outputs": []
    },
    {
      "cell_type": "markdown",
      "source": [
        "## 9. Ох уж эти корейцы - 2.0\n",
        "\n",
        "Условие такое же, как и в задаче 8, но теперь вам предстоит решить такую же задачу с использованием <font color=\"#8000FF\"> `list comprehensions` </font>"
      ],
      "metadata": {
        "id": "0wcUgWpqMls_"
      }
    },
    {
      "cell_type": "code",
      "execution_count": 25,
      "metadata": {
        "id": "FyrL43m7Iptt"
      },
      "outputs": [],
      "source": [
        "new_age = [age + 1 for age in ages]"
      ]
    },
    {
      "cell_type": "markdown",
      "source": [
        "## 10. Много разных строк.\n",
        "\n",
        "Напишите функцию` get_extended_string_info`, принимающую на вход строку, а на выход выдаёт **7 строк через запятую**, полученные из оригинальной соответствующим преобразованием:\n",
        "\n",
        "1. Самое длинное слово в строке\n",
        "2. Количество слов в строке\n",
        "3. Переворачивает каждое слово в строке задом наперёд\n",
        "4. Удаляет все цифры из строки\n",
        "5. Заменяет все буквы верхнего регистра на нижний, а нижнего регистра на верхний\n",
        "6. Проверяет, является ли строка палиндромом (без учета пробелов, регистра и пунктуации, те только буквы и цифры)\n",
        "7. Если строка не является палиндромом, то выводит первые 5 символов строки в обратном порядке\n",
        "\n",
        "Т.е.  первая строка - самое длинное слово в исходной строке, вторая строка - количество слов в исходной строке и.т.д."
      ],
      "metadata": {
        "id": "0nk0f2oSM-dx"
      }
    },
    {
      "cell_type": "code",
      "execution_count": 1,
      "metadata": {
        "id": "qD-0OsRZIpw3",
        "outputId": "4d487c6b-eaf6-4a8b-f8aa-c8dca2cb842c",
        "colab": {
          "base_uri": "https://localhost:8080/"
        }
      },
      "outputs": [
        {
          "output_type": "execute_result",
          "data": {
            "text/plain": [
              "('100500!$%&.',\n",
              " '10',\n",
              " ',авораД ,кавуч ун ,еч как иовт .&%$!005001 ,A ляноп ябет ',\n",
              " ' Дарова, чувак, ну че, как твои !$%&. A, понял тебя',\n",
              " ' дАРОВА, ЧУВАК, НУ ЧЕ, КАК ТВОИ 100500!$%&. a, ПОНЯЛ ТЕБЯ',\n",
              " 'Нет, это не палиндром',\n",
              " ' Даро')"
            ]
          },
          "metadata": {},
          "execution_count": 1
        }
      ],
      "source": [
        "# YOUR CODE HERE\n",
        "def get_extended_string_info(simple_string: str):\n",
        "  #уберем все знаки препинания\n",
        "  simple_string_copy = simple_string.strip()\n",
        "  max = 0\n",
        "  max_word = ''\n",
        "\n",
        "  words_list = simple_string_copy.split()\n",
        "  for i in range(len(words_list)):\n",
        "    if len(words_list[i]) >= max:\n",
        "      max = len(words_list[i])\n",
        "      #находим максимальное слово\n",
        "      max_word = words_list[i]\n",
        "  #количество слов в строке\n",
        "  len_of_string = str(len(words_list))\n",
        "  #получаем перевернутую строчку\n",
        "  inversed_string = ''\n",
        "  for word in words_list:\n",
        "    word = word[::-1]\n",
        "    inversed_string = inversed_string + word + \" \"\n",
        "  #получаем строку без цифр\n",
        "  string_with_no_digits = ''\n",
        "  for letter in simple_string:\n",
        "    if not letter.isdigit():\n",
        "      string_with_no_digits += letter\n",
        "  #Заменяем все буквы верхнего регистра на нижний, а нижнего регистра на верхний\n",
        "  funny_string = simple_string.swapcase()\n",
        "  #проверяем на палиндром\n",
        "  is_palindrome = 'Нет, это не палиндром'\n",
        "  string_with_no_reg = simple_string_copy.lower()\n",
        "  clean_string = string_with_no_reg.replace(' ', '')\n",
        "  if clean_string == clean_string[::-1]:\n",
        "    is_palindrome = 'Да, это палиндром'\n",
        "  if is_palindrome == 'Нет, это не палиндром':\n",
        "    return max_word, len_of_string, inversed_string, string_with_no_digits, funny_string, is_palindrome, simple_string[:5]\n",
        "  else:\n",
        "    return max_word, len_of_string, inversed_string, string_with_no_digits, funny_string, is_palindrome\n",
        "\n",
        "get_extended_string_info(\" Дарова, чувак, ну че, как твои 100500!$%&. A, понял тебя\")"
      ]
    },
    {
      "cell_type": "markdown",
      "source": [
        "## 11. Турецкие сериалы.\n",
        "\n",
        "Из администрации школы вам поступили списки турецких студентов, сдававших экзамены по математике и физике в виде словаря \"имя\": tuple(оценка по физике, оценка по математике)\n",
        "\n",
        "Если оценка ниже трех - студент не сдал, если ниже четырех - не получает стипендию. Если хотя бы один предмет не сдан, то это отчисление\n",
        "\n",
        "1. <font color=\"#8000FF\"> С помощью comprehensions </font> сформируйте списки студентов, кто сдал экзамены на проход/стипу. Подумайте, какие категории вам нужны\n",
        "\n",
        "2. Сформируйте списки на стипендию и на отчисление"
      ],
      "metadata": {
        "id": "DSlSqjt0N0-3"
      }
    },
    {
      "cell_type": "code",
      "source": [
        "exam_scores = {\n",
        "    \"Serkan Bolat\": (3, 4),\n",
        "    \"Burak Deniz\": (5, 3),\n",
        "    \"Ahmet Yildirim\": (2, 5),\n",
        "    \"Merve Kaya\": (4, 4),\n",
        "    \"Emre Demir\": (2, 2),\n",
        "    \"Zeynep Arslan\": (3, 3),\n",
        "    \"Mustafa Yilmaz\": (5, 4),\n",
        "    \"Elif Ozdemir\": (4, 3),\n",
        "    \"Canan Karaca\": (2, 4),\n",
        "    \"Yusuf Sahin\": (5, 5),\n",
        "    \"Selin Cengiz\": (3, 2),\n",
        "    \"Kerem Gunes\": (4, 5),\n",
        "    \"Duru Aydin\": (3, 4),\n",
        "    \"Omer Yilmaz\": (2, 3),\n",
        "    \"Esra Uysal\": (4, 4),\n",
        "    \"Halil Yalcin\": (3, 3),\n",
        "    \"Ayse Yildirim\": (5, 4),\n",
        "    \"Fatma Demir\": (2, 2),\n",
        "    \"Ali Gokce\": (4, 3),\n",
        "    \"Cemre Erdem\": (3, 5)\n",
        "}\n"
      ],
      "metadata": {
        "id": "1Zf73sEgOC43"
      },
      "execution_count": 46,
      "outputs": []
    },
    {
      "cell_type": "code",
      "execution_count": 47,
      "metadata": {
        "id": "faZRQH5pIpzu"
      },
      "outputs": [],
      "source": [
        "# YOUR CODE HERE\n",
        "completed_exams_good = [name for name, points in exam_scores.items() if ((points[0] > 2) and (points[1] > 2))]\n",
        "stud_with_scholarship = [name for name, points in exam_scores.items() if ((points[0] > 3) and (points[1] > 3))]\n",
        "completed_exams_bad = [name for name, points in exam_scores.items() if ((points[0] <= 2) or (points[1] <=2))]"
      ]
    },
    {
      "cell_type": "markdown",
      "source": [
        "## 12. Я у мамы разработчик.\n",
        "\n",
        "Возьмите функцию из задачи 10 и переиспользуйте её, чтобы получить количество слов в строке. Ненужные переменные запихните в `_` и `*_`"
      ],
      "metadata": {
        "id": "vfhNtLvpOLYn"
      }
    },
    {
      "cell_type": "code",
      "execution_count": 146,
      "metadata": {
        "id": "simmTOFbIp2V",
        "outputId": "275029c9-7dd0-4024-e80b-00e54c456919",
        "colab": {
          "base_uri": "https://localhost:8080/",
          "height": 36
        }
      },
      "outputs": [
        {
          "output_type": "execute_result",
          "data": {
            "text/plain": [
              "'10'"
            ],
            "application/vnd.google.colaboratory.intrinsic+json": {
              "type": "string"
            }
          },
          "metadata": {},
          "execution_count": 146
        }
      ],
      "source": [
        "# YOUR CODE HERE\n",
        "def get_quant_of_words(simple_string: str):\n",
        "  _, quant_of_words, *_ = get_extended_string_info(simple_string)\n",
        "  return quant_of_words\n",
        "get_quant_of_words(\"Дарова, чувак, ну че, как твои 100500!$%&. A, понял тебя\")"
      ]
    },
    {
      "cell_type": "markdown",
      "source": [
        "## 13. Не перевелись ещё богатыри на Руси! - часть 1.\n",
        "\n",
        "Вам дана очень длинная строка с фамилиями, отчествами и именами потенциальных богатырей.\n",
        "\n",
        "Ваша задача - <font color=\"#8000FF\">используя цикл for</font> получить список имён из неё, после чего вывести все **уникальные** имена."
      ],
      "metadata": {
        "id": "uFJ9mDlv1q9-"
      }
    },
    {
      "cell_type": "code",
      "execution_count": 53,
      "metadata": {
        "id": "w8gXe9q-oElJ",
        "outputId": "b45ac3d3-a162-4505-b8de-704cd59dd0fb",
        "colab": {
          "base_uri": "https://localhost:8080/"
        }
      },
      "outputs": [
        {
          "output_type": "stream",
          "name": "stdout",
          "text": [
            "Гостевид, Бронислав, Ярослав, Вышеслав, Горисвет, Мстислав, Драгомир, Хотимир, Чеслав, Истислав, Градислав, Доброслав, Владимир, Пересвет, Мечислав, Томислав, Васелин, Тихомир, Белослав, Яромир, Ярополк, Перемысл, Веселин, Властимир, Добромир, Жирослав, Бранимир, Ратибор, Святослав, Вячеслав, Судислав, Гранислав, Драгомысл\n"
          ]
        }
      ],
      "source": [
        "slavic_names = '''\n",
        "Ратибор Васелинович Чеславов\n",
        "Веселин Истиславович Гремиславовский\n",
        "Хотимир Владимирович Жирославовский\n",
        "Бронислав Властимирович Бранимировский\n",
        "Васелин Граниславович Богданов\n",
        "Истислав Мутимирович Станиславов\n",
        "Вячеслав Велиградович Белославов\n",
        "Ярополк Хотимирович Станиславовский\n",
        "Тихомир Судиславович Васелинов\n",
        "Гранислав Истиславович Жирославов\n",
        "Белослав Мечиславович Мирославовский\n",
        "Властимир Богданович Гремиславов\n",
        "Гостевид Пересветович Мстиславов\n",
        "Бранимир Горисветович Велимиров\n",
        "Веселин Ратиборович Станиславов\n",
        "Вячеслав Истиславович Драгомыслов\n",
        "Васелин Велимирович Венцеславов\n",
        "Добромир Богославович Судиславов\n",
        "Тихомир Святославович Васелинов\n",
        "Вышеслав Граниславович Доброславов\n",
        "Драгомысл Ярославович Вышеславов\n",
        "Мечислав Гостевидович Станиславовский\n",
        "Градислав Веселинович Драгомыслов\n",
        "Доброслав Велимирович Святополков\n",
        "Пересвет Хотимирович Тихомиров\n",
        "Святослав Тихомирович Граниславов\n",
        "Жирослав Гремиславович Богославов\n",
        "Гранислав Перемыслович Васелинов\n",
        "Гостевид Хотимирович Ратиборов\n",
        "Гостевид Мутимирович Томиславов\n",
        "Тихомир Владимирович Веселинов\n",
        "Мстислав Хотимирович Истиславовский\n",
        "Чеслав Святополкович Веселинов\n",
        "Владимир Истиславович Властимиров\n",
        "Добромир Святополкович Доброжиров\n",
        "Томислав Истиславович Судиславовский\n",
        "Веселин Хотимирович Мстиславов\n",
        "Владимир Яромирович Судиславов\n",
        "Добромир Судиславович Жирославов\n",
        "Вышеслав Милорадович Белославовский\n",
        "Судислав Властимирович Бранимиров\n",
        "Перемысл Жирославович Бранимиров\n",
        "Драгомир Добромирович Мирославов\n",
        "Вячеслав Доброславович Судиславов\n",
        "Хотимир Перемыслович Богославов\n",
        "Веселин Мстиславович Ясномыслов\n",
        "Яромир Велиградович Истиславов\n",
        "Яромир Граниславович Веселиновский\n",
        "Ярослав Жирославович Святополков\n",
        "Горисвет Ярополкович Станиславовский\n",
        "'''\n",
        "list_of_names = slavic_names.split()\n",
        "list_of_names = list_of_names[::3]\n",
        "unique_names = set(list_of_names)\n",
        "print(*unique_names, sep=', ')"
      ]
    },
    {
      "cell_type": "markdown",
      "source": [
        "## 14. Не перевелись ещё богатыри на Руси! - часть 2.\n",
        "\n",
        "Вам дана очень длинная строка с фамилиями, отчествами и именами потенциальных богатырей.\n",
        "\n",
        "Ваша задача - <font color=\"#8000FF\">при помощи list comprehensions</font> получить список имён из неё, после чего вывести все **уникальные** имена."
      ],
      "metadata": {
        "id": "fBDeNsjooWXD"
      }
    },
    {
      "cell_type": "code",
      "source": [
        "# YOUR CODE HERE\n",
        "list_of_names = [name for name in slavic_names.split()[::3]]\n",
        "unique_names = set(list_of_names)\n",
        "print(*unique_names, sep=', ')"
      ],
      "metadata": {
        "id": "55SRUaKLrdyR",
        "outputId": "2bc5f421-3f7f-49ac-d29f-cab197d40d39",
        "colab": {
          "base_uri": "https://localhost:8080/"
        }
      },
      "execution_count": 55,
      "outputs": [
        {
          "output_type": "stream",
          "name": "stdout",
          "text": [
            "Гостевид, Бронислав, Ярослав, Вышеслав, Горисвет, Мстислав, Драгомир, Хотимир, Чеслав, Истислав, Градислав, Доброслав, Владимир, Пересвет, Мечислав, Томислав, Васелин, Тихомир, Белослав, Яромир, Ярополк, Перемысл, Веселин, Властимир, Добромир, Жирослав, Бранимир, Ратибор, Святослав, Вячеслав, Судислав, Гранислав, Драгомысл\n"
          ]
        }
      ]
    },
    {
      "cell_type": "markdown",
      "source": [
        "## 15. Генератор богатырских имён.\n",
        "\n",
        "\n",
        "Современные родители любят имена с духом старины. Проанализируйте список имён (именно имён, а не отчеств/фамилий) из задачи 13. Выделите (чисто визуально) 6 возможных начал имён и 6 возможных концов имён (например, Яро - начало, Полк - конец, а вместе имя - Ярополк) и напишите функцию `generate_random_old_slavic_name`, которая при помощи random.choice выдаёт случайное имя.\n",
        "\n",
        "При помощи цикла вызовите функцию 10 раз и выведите, что получилось."
      ],
      "metadata": {
        "id": "QLVpQyJnK5Bc"
      }
    },
    {
      "cell_type": "code",
      "source": [
        "import random\n",
        "def generate_random_old_slavic_name():\n",
        "    start = ['Томи', 'Яро', 'Жиро', 'Суди', 'Драго', 'Брони']\n",
        "    end = ['Слав', 'Свет', 'Мир', 'Мыл', 'Лин', 'Бор']\n",
        "    name = random.choice(start) + random.choice(end)\n",
        "    return name\n",
        "generate_random_old_slavic_name()"
      ],
      "metadata": {
        "id": "0burcuqjMQ30",
        "outputId": "44d81c14-c118-48c8-c043-570e8aba6867",
        "colab": {
          "base_uri": "https://localhost:8080/",
          "height": 36
        }
      },
      "execution_count": 77,
      "outputs": [
        {
          "output_type": "execute_result",
          "data": {
            "text/plain": [
              "'СудиСвет'"
            ],
            "application/vnd.google.colaboratory.intrinsic+json": {
              "type": "string"
            }
          },
          "metadata": {},
          "execution_count": 77
        }
      ]
    },
    {
      "cell_type": "markdown",
      "source": [
        "## 16. Один день, еще один, да один день - часть 1.\n",
        "\n",
        "Перед вами список некоторых князей Киевских и годы их правления.\n",
        "\n",
        "Ваша задача - <font color=\"#8000FF\">при помощи лямбда-функции и функции sort</font> отсортировать их в порядке возрастания количества лет, которых они провели на престоле."
      ],
      "metadata": {
        "id": "Td8QhrRJ_wdO"
      }
    },
    {
      "cell_type": "code",
      "source": [
        "rulers = [{\"name\": \"Олег Вещий\", \"year_start\": 882, \"year_end\": 912},\n",
        "          {\"name\": \"Игорь Рюрикович\", \"year_start\": 912, \"year_end\": 945},\n",
        "          {\"name\": \"Ольга\", \"year_start\": 945, \"year_end\": 960},\n",
        "          {\"name\": \"Святослав Игоревич\", \"year_start\": 945, \"year_end\": 972},\n",
        "          {\"name\": \"Ярополк Святославич\", \"year_start\": 972, \"year_end\": 978},\n",
        "          {\"name\": \"Владимир Святославич\", \"year_start\": 978, \"year_end\": 1015}]"
      ],
      "metadata": {
        "id": "oxgCN37HJEHk"
      },
      "execution_count": 87,
      "outputs": []
    },
    {
      "cell_type": "code",
      "source": [
        "sorted_rulers = rulers.copy()\n",
        "sorted_rulers.sort(key=lambda ruler: ruler[\"year_end\"] - ruler[\"year_start\"])\n",
        "print(sorted_rulers)"
      ],
      "metadata": {
        "id": "WpbJzN82KUki",
        "outputId": "19e1150e-a31d-46c1-ecf9-6050cffe799b",
        "colab": {
          "base_uri": "https://localhost:8080/"
        }
      },
      "execution_count": 92,
      "outputs": [
        {
          "output_type": "stream",
          "name": "stdout",
          "text": [
            "[{'name': 'Ярополк Святославич', 'year_start': 972, 'year_end': 978}, {'name': 'Ольга', 'year_start': 945, 'year_end': 960}, {'name': 'Святослав Игоревич', 'year_start': 945, 'year_end': 972}, {'name': 'Олег Вещий', 'year_start': 882, 'year_end': 912}, {'name': 'Игорь Рюрикович', 'year_start': 912, 'year_end': 945}, {'name': 'Владимир Святославич', 'year_start': 978, 'year_end': 1015}]\n"
          ]
        }
      ]
    },
    {
      "cell_type": "markdown",
      "source": [
        "## 17. Один день, ещё один, да один день - часть 2.\n",
        "\n",
        "Перед вами список некоторых князей Киевских и годы их правления.\n",
        "\n",
        "Ваша задача - <font color=\"#8000FF\">при помощи лямбда-функции и функции filter</font> выбрать из них тех, кто правил дольше 17 лет или является Ольгой."
      ],
      "metadata": {
        "id": "VP2Nn03BKWOo"
      }
    },
    {
      "cell_type": "code",
      "source": [
        "filtered_rulers = list(filter(lambda ruler: (ruler[\"year_end\"] - ruler[\"year_start\"] > 17) or (ruler['name'] == 'Ольга'), rulers))\n",
        "print(filtered_rulers)"
      ],
      "metadata": {
        "id": "hNkpXtt1KkDE",
        "outputId": "bbe9acdc-a710-4eef-e1de-9b967bb5022e",
        "colab": {
          "base_uri": "https://localhost:8080/"
        }
      },
      "execution_count": 98,
      "outputs": [
        {
          "output_type": "stream",
          "name": "stdout",
          "text": [
            "[{'name': 'Ольга', 'year_start': 945, 'year_end': 960}, {'name': 'Святослав Игоревич', 'year_start': 945, 'year_end': 972}, {'name': 'Олег Вещий', 'year_start': 882, 'year_end': 912}, {'name': 'Игорь Рюрикович', 'year_start': 912, 'year_end': 945}, {'name': 'Владимир Святославич', 'year_start': 978, 'year_end': 1015}]\n"
          ]
        }
      ]
    },
    {
      "cell_type": "markdown",
      "source": [
        "## 18. Кому на Руси жить хорошо - часть 1.\n",
        "\n",
        "*В Древней Руси больше всего боялись тех, кто отсидел, потому что тогда сажали на кол.*\n",
        "\n",
        "Перед вами два словаря - словарь `paid_money` - количество золота, сколько этот боярин заплатил в казну и словарь `real_money` - количество золота, которое реально заработал боярин.\n",
        "\n",
        "<font color=\"#8000FF\">При помощи цикла for</font> выведи список имён бояр, которые заплатили менее десятой части от своих настоящих доходов - это те бояре, которых в следующем месяце придётся посадить на кол."
      ],
      "metadata": {
        "id": "uQmzqitT9zCx"
      }
    },
    {
      "cell_type": "code",
      "source": [
        "paid_money = {\"Козьма Григорьевич\": 70,\n",
        "              \"Аврам Стефанович\": 101,\n",
        "              \"Захарий Григорьевич\": 15,\n",
        "              \"Онцифор Лукинич\": 208}\n",
        "\n",
        "real_money = {\"Козьма Григорьевич\": 1000,\n",
        "              \"Аврам Стефанович\": 900,\n",
        "              \"Захарий Григорьевич\": 400,\n",
        "              \"Онцифор Лукинич\": 2000}"
      ],
      "metadata": {
        "id": "x_QHMKex-DM-"
      },
      "execution_count": 100,
      "outputs": []
    },
    {
      "cell_type": "code",
      "source": [
        "# YOUR CODE HERE\n",
        "bad_riches = []\n",
        "for key, value in paid_money.items():\n",
        "  if value/real_money[key] < 1/10:\n",
        "    bad_riches.append(key)\n",
        "print(bad_riches)"
      ],
      "metadata": {
        "id": "_rXLJj8M-BlC",
        "outputId": "633ac3c5-df23-4891-b4d2-e68c9b50e88b",
        "colab": {
          "base_uri": "https://localhost:8080/"
        }
      },
      "execution_count": 104,
      "outputs": [
        {
          "output_type": "stream",
          "name": "stdout",
          "text": [
            "['Козьма Григорьевич', 'Захарий Григорьевич']\n"
          ]
        }
      ]
    },
    {
      "cell_type": "markdown",
      "source": [
        "## 19. Кому на Руси жить хорошо - часть 2.\n",
        "\n",
        "\n",
        "Перед вами два словаря - словарь `paid_money` - количество золота, сколько этот боярин заплатил в казну и словарь `real_money` - количество золота, которое реально заработал боярин.\n",
        "\n",
        "<font color=\"#8000FF\">При помощи list comprehension и условия</font> выведи список имён бояр, которые заплатили менее десятой части от своих настоящих доходов - это те бояре, которых в следующем месяце придётся посадить на кол."
      ],
      "metadata": {
        "id": "TAhHkr-mTY9d"
      }
    },
    {
      "cell_type": "code",
      "source": [
        "# YOUR CODE HERE\n",
        "bad_riches = [name for name, money in paid_money.items() if money/real_money[name] < 1/10]\n",
        "print(bad_riches)"
      ],
      "metadata": {
        "id": "ORqNSSsGl12r",
        "outputId": "72a02216-c5e2-43af-ba17-6aeebad53e50",
        "colab": {
          "base_uri": "https://localhost:8080/"
        }
      },
      "execution_count": 106,
      "outputs": [
        {
          "output_type": "stream",
          "name": "stdout",
          "text": [
            "['Козьма Григорьевич', 'Захарий Григорьевич']\n"
          ]
        }
      ]
    },
    {
      "cell_type": "markdown",
      "source": [
        "## 20. Здесь русский дух, здесь Русью пахнет... (2 балла)\n",
        "\n",
        "Вы задались задачей сделать самые русские духи. Для этого вы собрали несколько пробных ароматов из разных нот (ноты между ароматами могут повторяться) и провели опрос среди прохожих, спрашивая, насколько Русью пахнет данный аромат по шкале от 1 до 5 включительно.\n",
        "\n",
        "Перед вами часть ароматов и часть голосов - ваша задача:\n",
        "\n",
        "1. На основе ароматов определить множество **уникальных** нот в ароматах\n",
        "2. Определить среднее значение голосов за каждую **ноту**\n",
        "3. Вывести топ-3 ноты по среднему значению голосов - это и будут наши самые русские духи."
      ],
      "metadata": {
        "id": "_HJtKjsu2ABU"
      }
    },
    {
      "cell_type": "code",
      "source": [
        "fragrances = [{\"id\": 15, \"name\": \"Русалка\", \"notes\": \"кувшинки, вода, мох, мускус\"},\n",
        "              {\"id\": 16, \"name\": \"Жар-птица\", \"notes\": \"молоко, сандал, слива, перец\"},\n",
        "              {\"id\": 17, \"name\": \"Река-Смородина\", \"notes\": \"смородина, вода, молоко, мед\"},\n",
        "              {\"id\": 18, \"name\": \"Царевна-Лягушка\", \"notes\": \"можжевельник, вода, древесина, перец, кувшинки\"},\n",
        "              {\"id\": 19, \"name\": \"Василиса-Премудрая\", \"notes\": \"мед, яблоко, ветивер, мускус\"}]\n",
        "\n",
        "votes = [{'id': 2353, 'fragrance_id': 19, 'vote_res': 2}, {'id': 2354, 'fragrance_id': 15, 'vote_res': 2}, {'id': 2355, 'fragrance_id': 18, 'vote_res': 1}, {'id': 2356, 'fragrance_id': 19, 'vote_res': 4}, {'id': 2357, 'fragrance_id': 16, 'vote_res': 4}, {'id': 2358, 'fragrance_id': 16, 'vote_res': 1}, {'id': 2359, 'fragrance_id': 18, 'vote_res': 1}, {'id': 2360, 'fragrance_id': 15, 'vote_res': 5}, {'id': 2361, 'fragrance_id': 18, 'vote_res': 5}, {'id': 2362, 'fragrance_id': 16, 'vote_res': 4}, {'id': 2363, 'fragrance_id': 19, 'vote_res': 2}, {'id': 2364, 'fragrance_id': 17, 'vote_res': 1}, {'id': 2365, 'fragrance_id': 15, 'vote_res': 1}, {'id': 2366, 'fragrance_id': 18, 'vote_res': 5}, {'id': 2367, 'fragrance_id': 19, 'vote_res': 3}, {'id': 2368, 'fragrance_id': 17, 'vote_res': 1}, {'id': 2369, 'fragrance_id': 18, 'vote_res': 1}, {'id': 2370, 'fragrance_id': 18, 'vote_res': 3}, {'id': 2371, 'fragrance_id': 15, 'vote_res': 2}, {'id': 2372, 'fragrance_id': 17, 'vote_res': 2}, {'id': 2373, 'fragrance_id': 16, 'vote_res': 2}, {'id': 2374, 'fragrance_id': 18, 'vote_res': 3}, {'id': 2375, 'fragrance_id': 19, 'vote_res': 1}, {'id': 2376, 'fragrance_id': 16, 'vote_res': 1}, {'id': 2377, 'fragrance_id': 16, 'vote_res': 2}, {'id': 2378, 'fragrance_id': 16, 'vote_res': 3}, {'id': 2379, 'fragrance_id': 18, 'vote_res': 2}, {'id': 2380, 'fragrance_id': 18, 'vote_res': 5}, {'id': 2381, 'fragrance_id': 15, 'vote_res': 3}, {'id': 2382, 'fragrance_id': 19, 'vote_res': 5}, {'id': 2383, 'fragrance_id': 17, 'vote_res': 4}, {'id': 2384, 'fragrance_id': 18, 'vote_res': 5}, {'id': 2385, 'fragrance_id': 19, 'vote_res': 3}, {'id': 2386, 'fragrance_id': 17, 'vote_res': 3}, {'id': 2387, 'fragrance_id': 17, 'vote_res': 5}, {'id': 2388, 'fragrance_id': 18, 'vote_res': 1}, {'id': 2389, 'fragrance_id': 19, 'vote_res': 1}, {'id': 2390, 'fragrance_id': 15, 'vote_res': 1}, {'id': 2391, 'fragrance_id': 19, 'vote_res': 5}, {'id': 2392, 'fragrance_id': 15, 'vote_res': 2}, {'id': 2393, 'fragrance_id': 15, 'vote_res': 3}, {'id': 2394, 'fragrance_id': 17, 'vote_res': 5}, {'id': 2395, 'fragrance_id': 15, 'vote_res': 5}, {'id': 2396, 'fragrance_id': 17, 'vote_res': 2}, {'id': 2397, 'fragrance_id': 15, 'vote_res': 5}, {'id': 2398, 'fragrance_id': 17, 'vote_res': 5}, {'id': 2399, 'fragrance_id': 18, 'vote_res': 4}, {'id': 2400, 'fragrance_id': 16, 'vote_res': 1}, {'id': 2401, 'fragrance_id': 17, 'vote_res': 5}, {'id': 2402, 'fragrance_id': 16, 'vote_res': 3}]"
      ],
      "metadata": {
        "id": "zvkU2KEy2WH8"
      },
      "execution_count": 3,
      "outputs": []
    },
    {
      "cell_type": "code",
      "source": [
        "# YOUR CODE HERE\n",
        "unique_notes = set()\n",
        "for frag in fragrances:\n",
        "    words = frag['notes'].split()\n",
        "    for word in words:\n",
        "        cleaned_word = word.strip(\",\")\n",
        "        unique_notes.add(cleaned_word)\n",
        "dict_with_notes = {note: [0,0] for note in unique_notes}\n",
        "\n",
        "for peop in votes:\n",
        "  for frag in fragrances:\n",
        "    if peop['fragrance_id'] == frag['id']:\n",
        "      words = frag['notes'].split()\n",
        "      for word in words:\n",
        "          cleaned_word = word.strip(\",\")\n",
        "          dict_with_notes[cleaned_word][0] += peop['vote_res']\n",
        "          dict_with_notes[cleaned_word][1] += 1\n",
        "for key, value in dict_with_notes.items():\n",
        "  dict_with_notes[key] = dict_with_notes[key][0]/(5*dict_with_notes[key][1])\n",
        "sorted_notes = sorted(dict_with_notes.items(), key=lambda note: note[1], reverse=True)\n",
        "top_3 = []\n",
        "for note in sorted_notes[:3]:\n",
        "  top_3.append(note[0])\n",
        "print('Три наиболее русские ноты это', end = ': ')\n",
        "print(*top_3, sep=\", \")"
      ],
      "metadata": {
        "id": "vG9JTNLM4eSE",
        "outputId": "4993dd17-391c-4615-d321-1e1ab714079a",
        "colab": {
          "base_uri": "https://localhost:8080/"
        }
      },
      "execution_count": 5,
      "outputs": [
        {
          "output_type": "stream",
          "name": "stdout",
          "text": [
            "Три наиболее русские ноты это: смородина, мед, вода\n"
          ]
        }
      ]
    },
    {
      "cell_type": "code",
      "source": [],
      "metadata": {
        "id": "WuU_LqzFYkBt"
      },
      "execution_count": null,
      "outputs": []
    }
  ]
}